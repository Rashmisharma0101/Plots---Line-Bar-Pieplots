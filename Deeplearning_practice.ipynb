{
  "nbformat": 4,
  "nbformat_minor": 0,
  "metadata": {
    "colab": {
      "name": "Deeplearning practice.ipynb",
      "provenance": [],
      "collapsed_sections": [],
      "authorship_tag": "ABX9TyOyNLbvizrxnTTqw8pgHRgU",
      "include_colab_link": true
    },
    "kernelspec": {
      "name": "python3",
      "display_name": "Python 3"
    }
  },
  "cells": [
    {
      "cell_type": "markdown",
      "metadata": {
        "id": "view-in-github",
        "colab_type": "text"
      },
      "source": [
        "<a href=\"https://colab.research.google.com/github/Rashmisharma0101/Plots---Line-Bar-Pieplots/blob/master/Deeplearning_practice.ipynb\" target=\"_parent\"><img src=\"https://colab.research.google.com/assets/colab-badge.svg\" alt=\"Open In Colab\"/></a>"
      ]
    },
    {
      "cell_type": "code",
      "metadata": {
        "id": "8bf9Jenq5X_Q",
        "colab_type": "code",
        "colab": {
          "base_uri": "https://localhost:8080/",
          "height": 71
        },
        "outputId": "92151de0-7bb9-4c1b-eaa4-67409c672158"
      },
      "source": [
        "# REGRESSION WITH TENSORFLOW\n",
        "import pandas as pd\n",
        "import numpy as np\n",
        "import seaborn as sns\n",
        "import matplotlib.pyplot as plt"
      ],
      "execution_count": 2,
      "outputs": [
        {
          "output_type": "stream",
          "text": [
            "/usr/local/lib/python3.6/dist-packages/statsmodels/tools/_testing.py:19: FutureWarning: pandas.util.testing is deprecated. Use the functions in the public API at pandas.testing instead.\n",
            "  import pandas.util.testing as tm\n"
          ],
          "name": "stderr"
        }
      ]
    },
    {
      "cell_type": "markdown",
      "metadata": {
        "id": "_SyjpGg8w_MZ",
        "colab_type": "text"
      },
      "source": [
        ""
      ]
    },
    {
      "cell_type": "code",
      "metadata": {
        "id": "eTGc7StG6_rj",
        "colab_type": "code",
        "colab": {
          "resources": {
            "http://localhost:8080/nbextensions/google.colab/files.js": {
              "data": "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",
              "ok": true,
              "headers": [
                [
                  "content-type",
                  "application/javascript"
                ]
              ],
              "status": 200,
              "status_text": ""
            }
          },
          "base_uri": "https://localhost:8080/",
          "height": 72
        },
        "outputId": "ec70825e-5888-41fb-c11c-263c6f06ff9d"
      },
      "source": [
        "from google.colab import files\n",
        "uploaded = files.upload()"
      ],
      "execution_count": 5,
      "outputs": [
        {
          "output_type": "display_data",
          "data": {
            "text/html": [
              "\n",
              "     <input type=\"file\" id=\"files-6d594c15-fad9-4bc7-b2fc-0f83bd53c307\" name=\"files[]\" multiple disabled\n",
              "        style=\"border:none\" />\n",
              "     <output id=\"result-6d594c15-fad9-4bc7-b2fc-0f83bd53c307\">\n",
              "      Upload widget is only available when the cell has been executed in the\n",
              "      current browser session. Please rerun this cell to enable.\n",
              "      </output>\n",
              "      <script src=\"/nbextensions/google.colab/files.js\"></script> "
            ],
            "text/plain": [
              "<IPython.core.display.HTML object>"
            ]
          },
          "metadata": {
            "tags": []
          }
        },
        {
          "output_type": "stream",
          "text": [
            "Saving kc_house_data.csv to kc_house_data.csv\n"
          ],
          "name": "stdout"
        }
      ]
    },
    {
      "cell_type": "code",
      "metadata": {
        "id": "_ECsIQJt8qxB",
        "colab_type": "code",
        "colab": {}
      },
      "source": [
        "import io\n",
        "df = pd.read_csv(io.BytesIO(uploaded['kc_house_data.csv']))"
      ],
      "execution_count": 9,
      "outputs": []
    },
    {
      "cell_type": "code",
      "metadata": {
        "id": "mTG7BfSM9G9m",
        "colab_type": "code",
        "colab": {
          "base_uri": "https://localhost:8080/",
          "height": 100
        },
        "outputId": "71411f42-e457-4cbb-d916-b3c237c0aa0d"
      },
      "source": [
        "df.head(1)"
      ],
      "execution_count": 12,
      "outputs": [
        {
          "output_type": "execute_result",
          "data": {
            "text/html": [
              "<div>\n",
              "<style scoped>\n",
              "    .dataframe tbody tr th:only-of-type {\n",
              "        vertical-align: middle;\n",
              "    }\n",
              "\n",
              "    .dataframe tbody tr th {\n",
              "        vertical-align: top;\n",
              "    }\n",
              "\n",
              "    .dataframe thead th {\n",
              "        text-align: right;\n",
              "    }\n",
              "</style>\n",
              "<table border=\"1\" class=\"dataframe\">\n",
              "  <thead>\n",
              "    <tr style=\"text-align: right;\">\n",
              "      <th></th>\n",
              "      <th>id</th>\n",
              "      <th>date</th>\n",
              "      <th>price</th>\n",
              "      <th>bedrooms</th>\n",
              "      <th>bathrooms</th>\n",
              "      <th>sqft_living</th>\n",
              "      <th>sqft_lot</th>\n",
              "      <th>floors</th>\n",
              "      <th>waterfront</th>\n",
              "      <th>view</th>\n",
              "      <th>condition</th>\n",
              "      <th>grade</th>\n",
              "      <th>sqft_above</th>\n",
              "      <th>sqft_basement</th>\n",
              "      <th>yr_built</th>\n",
              "      <th>yr_renovated</th>\n",
              "      <th>zipcode</th>\n",
              "      <th>lat</th>\n",
              "      <th>long</th>\n",
              "      <th>sqft_living15</th>\n",
              "      <th>sqft_lot15</th>\n",
              "    </tr>\n",
              "  </thead>\n",
              "  <tbody>\n",
              "    <tr>\n",
              "      <th>0</th>\n",
              "      <td>7129300520</td>\n",
              "      <td>20141013T000000</td>\n",
              "      <td>221900.0</td>\n",
              "      <td>3</td>\n",
              "      <td>1.0</td>\n",
              "      <td>1180</td>\n",
              "      <td>5650</td>\n",
              "      <td>1.0</td>\n",
              "      <td>0</td>\n",
              "      <td>0</td>\n",
              "      <td>3</td>\n",
              "      <td>7</td>\n",
              "      <td>1180</td>\n",
              "      <td>0</td>\n",
              "      <td>1955</td>\n",
              "      <td>0</td>\n",
              "      <td>98178</td>\n",
              "      <td>47.5112</td>\n",
              "      <td>-122.257</td>\n",
              "      <td>1340</td>\n",
              "      <td>5650</td>\n",
              "    </tr>\n",
              "  </tbody>\n",
              "</table>\n",
              "</div>"
            ],
            "text/plain": [
              "           id             date     price  ...     long  sqft_living15  sqft_lot15\n",
              "0  7129300520  20141013T000000  221900.0  ... -122.257           1340        5650\n",
              "\n",
              "[1 rows x 21 columns]"
            ]
          },
          "metadata": {
            "tags": []
          },
          "execution_count": 12
        }
      ]
    },
    {
      "cell_type": "code",
      "metadata": {
        "id": "VMaQvtrZ9JFI",
        "colab_type": "code",
        "colab": {
          "base_uri": "https://localhost:8080/",
          "height": 307
        },
        "outputId": "21273805-59a7-473c-a659-58d741502df1"
      },
      "source": [
        "plt.figure(figsize = (10,4))\n",
        "sns.distplot(df['price'])"
      ],
      "execution_count": 15,
      "outputs": [
        {
          "output_type": "execute_result",
          "data": {
            "text/plain": [
              "<matplotlib.axes._subplots.AxesSubplot at 0x7f22f9740080>"
            ]
          },
          "metadata": {
            "tags": []
          },
          "execution_count": 15
        },
        {
          "output_type": "display_data",
          "data": {
            "image/png": "[encoded data removed]",
            "text/plain": [
              "<Figure size 720x288 with 1 Axes>"
            ]
          },
          "metadata": {
            "tags": [],
            "needs_background": "light"
          }
        }
      ]
    },
    {
      "cell_type": "code",
      "metadata": {
        "id": "cFToyTjE9o1H",
        "colab_type": "code",
        "colab": {}
      },
      "source": [
        "df.drop('id', axis =1, inplace = True)\n",
        "df['date'] = pd.to_datetime(df['date'])\n",
        "df['year'] = df['date'].apply(lambda date : date.year)\n",
        "df['month'] = df['date'].apply(lambda date : date.month)\n",
        "df.drop('date', axis = 1, inplace =True)"
      ],
      "execution_count": 16,
      "outputs": []
    },
    {
      "cell_type": "code",
      "metadata": {
        "id": "QEDANrEu-BIQ",
        "colab_type": "code",
        "colab": {}
      },
      "source": [
        "from sklearn.model_selection import train_test_split\n",
        "X = df.drop('price', axis = 1).values\n",
        "y = df['price'].values\n",
        "X_train, X_test, y_train, y_test = train_test_split(X,y, random_state = 101, test_size=0.30)"
      ],
      "execution_count": 62,
      "outputs": []
    },
    {
      "cell_type": "code",
      "metadata": {
        "id": "OHz5nwraMe9Y",
        "colab_type": "code",
        "colab": {}
      },
      "source": [
        ""
      ],
      "execution_count": null,
      "outputs": []
    },
    {
      "cell_type": "markdown",
      "metadata": {
        "id": "VgArEK72IrTa",
        "colab_type": "text"
      },
      "source": [
        "#.values is needed as tensorflow have problem in understanding pandas series and dataframes"
      ]
    },
    {
      "cell_type": "code",
      "metadata": {
        "id": "Bszcoh4lAXPE",
        "colab_type": "code",
        "colab": {}
      },
      "source": [
        "from sklearn.preprocessing import MinMaxScaler"
      ],
      "execution_count": 31,
      "outputs": []
    },
    {
      "cell_type": "code",
      "metadata": {
        "id": "pkkuFtjsLhCr",
        "colab_type": "code",
        "colab": {
          "base_uri": "https://localhost:8080/",
          "height": 34
        },
        "outputId": "5f574824-8457-434d-f941-9e72139e068d"
      },
      "source": [
        "X_train.shape"
      ],
      "execution_count": 50,
      "outputs": [
        {
          "output_type": "execute_result",
          "data": {
            "text/plain": [
              "(15129, 20)"
            ]
          },
          "metadata": {
            "tags": []
          },
          "execution_count": 50
        }
      ]
    },
    {
      "cell_type": "code",
      "metadata": {
        "id": "jTpHCM01Ll9j",
        "colab_type": "code",
        "colab": {
          "base_uri": "https://localhost:8080/",
          "height": 34
        },
        "outputId": "2667dd57-dfd3-4fef-9ae4-2f73389428aa"
      },
      "source": [
        "y_train.shape"
      ],
      "execution_count": 58,
      "outputs": [
        {
          "output_type": "execute_result",
          "data": {
            "text/plain": [
              "(6484, 20)"
            ]
          },
          "metadata": {
            "tags": []
          },
          "execution_count": 58
        }
      ]
    },
    {
      "cell_type": "code",
      "metadata": {
        "id": "sBHM7RSOLoK8",
        "colab_type": "code",
        "colab": {
          "base_uri": "https://localhost:8080/",
          "height": 34
        },
        "outputId": "fe543a4c-dde9-409d-94ae-b6f59f9f0b6d"
      },
      "source": [
        "X_test.shape"
      ],
      "execution_count": 52,
      "outputs": [
        {
          "output_type": "execute_result",
          "data": {
            "text/plain": [
              "(15129,)"
            ]
          },
          "metadata": {
            "tags": []
          },
          "execution_count": 52
        }
      ]
    },
    {
      "cell_type": "code",
      "metadata": {
        "id": "1CF1i887Lv74",
        "colab_type": "code",
        "colab": {
          "base_uri": "https://localhost:8080/",
          "height": 238
        },
        "outputId": "231c8660-10c6-418b-db5a-14a3837b4a5c"
      },
      "source": [
        "y_train"
      ],
      "execution_count": 61,
      "outputs": [
        {
          "output_type": "execute_result",
          "data": {
            "text/plain": [
              "array([[2.000e+00, 1.000e+00, 1.050e+03, ..., 9.616e+03, 2.015e+03,\n",
              "        1.000e+00],\n",
              "       [4.000e+00, 2.250e+00, 2.040e+03, ..., 8.580e+03, 2.015e+03,\n",
              "        4.000e+00],\n",
              "       [4.000e+00, 2.500e+00, 2.500e+03, ..., 4.300e+03, 2.015e+03,\n",
              "        2.000e+00],\n",
              "       ...,\n",
              "       [3.000e+00, 2.000e+00, 2.620e+03, ..., 7.812e+03, 2.014e+03,\n",
              "        1.100e+01],\n",
              "       [2.000e+00, 1.000e+00, 9.000e+02, ..., 4.500e+03, 2.015e+03,\n",
              "        4.000e+00],\n",
              "       [4.000e+00, 3.500e+00, 3.500e+03, ..., 9.525e+03, 2.014e+03,\n",
              "        9.000e+00]])"
            ]
          },
          "metadata": {
            "tags": []
          },
          "execution_count": 61
        }
      ]
    },
    {
      "cell_type": "code",
      "metadata": {
        "id": "jqV2FGhUMJ8-",
        "colab_type": "code",
        "colab": {}
      },
      "source": [
        ""
      ],
      "execution_count": null,
      "outputs": []
    },
    {
      "cell_type": "code",
      "metadata": {
        "id": "xZF7v1eAMIdL",
        "colab_type": "code",
        "colab": {}
      },
      "source": [
        ""
      ],
      "execution_count": null,
      "outputs": []
    },
    {
      "cell_type": "code",
      "metadata": {
        "id": "J90_6yIWMEnD",
        "colab_type": "code",
        "colab": {}
      },
      "source": [
        ""
      ],
      "execution_count": null,
      "outputs": []
    },
    {
      "cell_type": "code",
      "metadata": {
        "id": "_91RvMJXLc8i",
        "colab_type": "code",
        "colab": {}
      },
      "source": [
        ""
      ],
      "execution_count": null,
      "outputs": []
    },
    {
      "cell_type": "code",
      "metadata": {
        "id": "tV9yPvTeAfdS",
        "colab_type": "code",
        "colab": {}
      },
      "source": [
        "# X_train= X_train.reshape(15129, 20)\n",
        "# y_train= y_train.reshape(6484, 20)\n",
        "# X_test = X_test.reshape(15129,)\n",
        "scaler = MinMaxScaler()\n",
        "X_train = scaler.fit_transform(X_train)\n",
        "X_test = scaler.transform(X_test)\n"
      ],
      "execution_count": 63,
      "outputs": []
    },
    {
      "cell_type": "code",
      "metadata": {
        "id": "pJZ3bIG3Mgbz",
        "colab_type": "code",
        "colab": {}
      },
      "source": [
        ""
      ],
      "execution_count": null,
      "outputs": []
    },
    {
      "cell_type": "code",
      "metadata": {
        "id": "NXKE9U3QLysy",
        "colab_type": "code",
        "colab": {}
      },
      "source": [
        ""
      ],
      "execution_count": null,
      "outputs": []
    },
    {
      "cell_type": "code",
      "metadata": {
        "id": "yVdoewGWCsCo",
        "colab_type": "code",
        "colab": {}
      },
      "source": [
        "from tensorflow.keras.models import Sequential"
      ],
      "execution_count": 44,
      "outputs": []
    },
    {
      "cell_type": "code",
      "metadata": {
        "id": "ZxnWALGYC0hZ",
        "colab_type": "code",
        "colab": {}
      },
      "source": [
        "from tensorflow.keras.layers import Dense"
      ],
      "execution_count": 45,
      "outputs": []
    },
    {
      "cell_type": "code",
      "metadata": {
        "id": "gUvLDXWqDg5l",
        "colab_type": "code",
        "colab": {}
      },
      "source": [
        "model = Sequential() \n",
        "model.add(Dense(19, activation = 'relu'))\n",
        "model.add(Dense(19, activation = 'relu'))\n",
        "model.add(Dense(19, activation = 'relu'))\n",
        "model.add(Dense(19, activation = 'relu'))\n",
        "\n",
        "model.add(Dense(1))\n",
        "model.compile(optimizer='adam', loss = 'mse')"
      ],
      "execution_count": 64,
      "outputs": []
    },
    {
      "cell_type": "code",
      "metadata": {
        "id": "07N0FdV7Mhyx",
        "colab_type": "code",
        "colab": {}
      },
      "source": [
        ""
      ],
      "execution_count": null,
      "outputs": []
    },
    {
      "cell_type": "code",
      "metadata": {
        "id": "u0g_v8JoIGXY",
        "colab_type": "code",
        "colab": {
          "base_uri": "https://localhost:8080/",
          "height": 1000
        },
        "outputId": "83e7fe57-d6cb-4e84-ab26-210416345a89"
      },
      "source": [
        "model.fit(x=X_train, y = y_train, \n",
        "          validation_data = (X_test, y_test), batch_size = 128, epochs = 400)"
      ],
      "execution_count": 65,
      "outputs": [
        {
          "output_type": "stream",
          "text": [
            "Epoch 1/400\n",
            "119/119 [==============================] - 0s 4ms/step - loss: 423630012416.0000 - val_loss: 433030496256.0000\n",
            "Epoch 2/400\n",
            "119/119 [==============================] - 0s 2ms/step - loss: 422745866240.0000 - val_loss: 429795868672.0000\n",
            "Epoch 3/400\n",
            "119/119 [==============================] - 0s 2ms/step - loss: 409445400576.0000 - val_loss: 398462582784.0000\n",
            "Epoch 4/400\n",
            "119/119 [==============================] - 0s 2ms/step - loss: 342857580544.0000 - val_loss: 287065014272.0000\n",
            "Epoch 5/400\n",
            "119/119 [==============================] - 0s 2ms/step - loss: 201639952384.0000 - val_loss: 140226740224.0000\n",
            "Epoch 6/400\n",
            "119/119 [==============================] - 0s 2ms/step - loss: 109975527424.0000 - val_loss: 106672128000.0000\n",
            "Epoch 7/400\n",
            "119/119 [==============================] - 0s 3ms/step - loss: 100170276864.0000 - val_loss: 104776941568.0000\n",
            "Epoch 8/400\n",
            "119/119 [==============================] - 0s 2ms/step - loss: 98803556352.0000 - val_loss: 103294836736.0000\n",
            "Epoch 9/400\n",
            "119/119 [==============================] - 0s 2ms/step - loss: 97429585920.0000 - val_loss: 101774901248.0000\n",
            "Epoch 10/400\n",
            "119/119 [==============================] - 0s 3ms/step - loss: 96003497984.0000 - val_loss: 100224770048.0000\n",
            "Epoch 11/400\n",
            "119/119 [==============================] - 0s 2ms/step - loss: 94523916288.0000 - val_loss: 98604343296.0000\n",
            "Epoch 12/400\n",
            "119/119 [==============================] - 0s 2ms/step - loss: 93002579968.0000 - val_loss: 96908369920.0000\n",
            "Epoch 13/400\n",
            "119/119 [==============================] - 0s 2ms/step - loss: 91416797184.0000 - val_loss: 95171444736.0000\n",
            "Epoch 14/400\n",
            "119/119 [==============================] - 0s 2ms/step - loss: 89767960576.0000 - val_loss: 93326008320.0000\n",
            "Epoch 15/400\n",
            "119/119 [==============================] - 0s 2ms/step - loss: 88013701120.0000 - val_loss: 91557388288.0000\n",
            "Epoch 16/400\n",
            "119/119 [==============================] - 0s 2ms/step - loss: 86288187392.0000 - val_loss: 89429114880.0000\n",
            "Epoch 17/400\n",
            "119/119 [==============================] - 0s 2ms/step - loss: 84329242624.0000 - val_loss: 87342784512.0000\n",
            "Epoch 18/400\n",
            "119/119 [==============================] - 0s 3ms/step - loss: 82336202752.0000 - val_loss: 85078114304.0000\n",
            "Epoch 19/400\n",
            "119/119 [==============================] - 0s 2ms/step - loss: 80284753920.0000 - val_loss: 82753839104.0000\n",
            "Epoch 20/400\n",
            "119/119 [==============================] - 0s 2ms/step - loss: 78044430336.0000 - val_loss: 80304316416.0000\n",
            "Epoch 21/400\n",
            "119/119 [==============================] - 0s 2ms/step - loss: 75747844096.0000 - val_loss: 77705871360.0000\n",
            "Epoch 22/400\n",
            "119/119 [==============================] - 0s 2ms/step - loss: 73327878144.0000 - val_loss: 75187929088.0000\n",
            "Epoch 23/400\n",
            "119/119 [==============================] - 0s 2ms/step - loss: 70887047168.0000 - val_loss: 72312397824.0000\n",
            "Epoch 24/400\n",
            "119/119 [==============================] - 0s 2ms/step - loss: 68403937280.0000 - val_loss: 69552201728.0000\n",
            "Epoch 25/400\n",
            "119/119 [==============================] - 0s 2ms/step - loss: 65892237312.0000 - val_loss: 67008159744.0000\n",
            "Epoch 26/400\n",
            "119/119 [==============================] - 0s 2ms/step - loss: 63478611968.0000 - val_loss: 64286834688.0000\n",
            "Epoch 27/400\n",
            "119/119 [==============================] - 0s 2ms/step - loss: 61191114752.0000 - val_loss: 61809057792.0000\n",
            "Epoch 28/400\n",
            "119/119 [==============================] - 0s 2ms/step - loss: 59106570240.0000 - val_loss: 59758714880.0000\n",
            "Epoch 29/400\n",
            "119/119 [==============================] - 0s 2ms/step - loss: 57253023744.0000 - val_loss: 57594982400.0000\n",
            "Epoch 30/400\n",
            "119/119 [==============================] - 0s 2ms/step - loss: 55606796288.0000 - val_loss: 55899279360.0000\n",
            "Epoch 31/400\n",
            "119/119 [==============================] - 0s 3ms/step - loss: 54242103296.0000 - val_loss: 54516506624.0000\n",
            "Epoch 32/400\n",
            "119/119 [==============================] - 0s 2ms/step - loss: 53110845440.0000 - val_loss: 53313998848.0000\n",
            "Epoch 33/400\n",
            "119/119 [==============================] - 0s 2ms/step - loss: 52152442880.0000 - val_loss: 52347977728.0000\n",
            "Epoch 34/400\n",
            "119/119 [==============================] - 0s 2ms/step - loss: 51347550208.0000 - val_loss: 51480928256.0000\n",
            "Epoch 35/400\n",
            "119/119 [==============================] - 0s 2ms/step - loss: 50631057408.0000 - val_loss: 50759864320.0000\n",
            "Epoch 36/400\n",
            "119/119 [==============================] - 0s 2ms/step - loss: 50004856832.0000 - val_loss: 50135392256.0000\n",
            "Epoch 37/400\n",
            "119/119 [==============================] - 0s 3ms/step - loss: 49424166912.0000 - val_loss: 49555570688.0000\n",
            "Epoch 38/400\n",
            "119/119 [==============================] - 0s 2ms/step - loss: 48858726400.0000 - val_loss: 49025003520.0000\n",
            "Epoch 39/400\n",
            "119/119 [==============================] - 0s 2ms/step - loss: 48390344704.0000 - val_loss: 48570744832.0000\n",
            "Epoch 40/400\n",
            "119/119 [==============================] - 0s 2ms/step - loss: 47940472832.0000 - val_loss: 48122609664.0000\n",
            "Epoch 41/400\n",
            "119/119 [==============================] - 0s 3ms/step - loss: 47548735488.0000 - val_loss: 47646625792.0000\n",
            "Epoch 42/400\n",
            "119/119 [==============================] - 0s 2ms/step - loss: 47179120640.0000 - val_loss: 47259799552.0000\n",
            "Epoch 43/400\n",
            "119/119 [==============================] - 0s 2ms/step - loss: 46755581952.0000 - val_loss: 46845411328.0000\n",
            "Epoch 44/400\n",
            "119/119 [==============================] - 0s 2ms/step - loss: 46384205824.0000 - val_loss: 46459629568.0000\n",
            "Epoch 45/400\n",
            "119/119 [==============================] - 0s 2ms/step - loss: 45955559424.0000 - val_loss: 46008553472.0000\n",
            "Epoch 46/400\n",
            "119/119 [==============================] - 0s 2ms/step - loss: 45585506304.0000 - val_loss: 45603475456.0000\n",
            "Epoch 47/400\n",
            "119/119 [==============================] - 0s 2ms/step - loss: 45152587776.0000 - val_loss: 45169754112.0000\n",
            "Epoch 48/400\n",
            "119/119 [==============================] - 0s 2ms/step - loss: 44732506112.0000 - val_loss: 44768153600.0000\n",
            "Epoch 49/400\n",
            "119/119 [==============================] - 0s 2ms/step - loss: 44306915328.0000 - val_loss: 44373983232.0000\n",
            "Epoch 50/400\n",
            "119/119 [==============================] - 0s 3ms/step - loss: 43901231104.0000 - val_loss: 43995402240.0000\n",
            "Epoch 51/400\n",
            "119/119 [==============================] - 0s 2ms/step - loss: 43518410752.0000 - val_loss: 43517775872.0000\n",
            "Epoch 52/400\n",
            "119/119 [==============================] - 0s 3ms/step - loss: 43143929856.0000 - val_loss: 43111878656.0000\n",
            "Epoch 53/400\n",
            "119/119 [==============================] - 0s 2ms/step - loss: 42732900352.0000 - val_loss: 42680209408.0000\n",
            "Epoch 54/400\n",
            "119/119 [==============================] - 0s 3ms/step - loss: 42347864064.0000 - val_loss: 42250940416.0000\n",
            "Epoch 55/400\n",
            "119/119 [==============================] - 0s 2ms/step - loss: 41930436608.0000 - val_loss: 41889316864.0000\n",
            "Epoch 56/400\n",
            "119/119 [==============================] - 0s 2ms/step - loss: 41662361600.0000 - val_loss: 41547702272.0000\n",
            "Epoch 57/400\n",
            "119/119 [==============================] - 0s 2ms/step - loss: 41262960640.0000 - val_loss: 41214672896.0000\n",
            "Epoch 58/400\n",
            "119/119 [==============================] - 0s 2ms/step - loss: 40974606336.0000 - val_loss: 40834936832.0000\n",
            "Epoch 59/400\n",
            "119/119 [==============================] - 0s 2ms/step - loss: 40704933888.0000 - val_loss: 40531828736.0000\n",
            "Epoch 60/400\n",
            "119/119 [==============================] - 0s 2ms/step - loss: 40397594624.0000 - val_loss: 40238260224.0000\n",
            "Epoch 61/400\n",
            "119/119 [==============================] - 0s 2ms/step - loss: 40127627264.0000 - val_loss: 39936786432.0000\n",
            "Epoch 62/400\n",
            "119/119 [==============================] - 0s 2ms/step - loss: 39815184384.0000 - val_loss: 39594885120.0000\n",
            "Epoch 63/400\n",
            "119/119 [==============================] - 0s 2ms/step - loss: 39520190464.0000 - val_loss: 39269269504.0000\n",
            "Epoch 64/400\n",
            "119/119 [==============================] - 0s 2ms/step - loss: 39224111104.0000 - val_loss: 38958366720.0000\n",
            "Epoch 65/400\n",
            "119/119 [==============================] - 0s 2ms/step - loss: 38909546496.0000 - val_loss: 38700621824.0000\n",
            "Epoch 66/400\n",
            "119/119 [==============================] - 0s 2ms/step - loss: 38625345536.0000 - val_loss: 38311608320.0000\n",
            "Epoch 67/400\n",
            "119/119 [==============================] - 0s 2ms/step - loss: 38379798528.0000 - val_loss: 38066032640.0000\n",
            "Epoch 68/400\n",
            "119/119 [==============================] - 0s 2ms/step - loss: 38150893568.0000 - val_loss: 37794824192.0000\n",
            "Epoch 69/400\n",
            "119/119 [==============================] - 0s 2ms/step - loss: 37904740352.0000 - val_loss: 37572804608.0000\n",
            "Epoch 70/400\n",
            "119/119 [==============================] - 0s 2ms/step - loss: 37703647232.0000 - val_loss: 37348462592.0000\n",
            "Epoch 71/400\n",
            "119/119 [==============================] - 0s 2ms/step - loss: 37470310400.0000 - val_loss: 37139435520.0000\n",
            "Epoch 72/400\n",
            "119/119 [==============================] - 0s 2ms/step - loss: 37293187072.0000 - val_loss: 36909072384.0000\n",
            "Epoch 73/400\n",
            "119/119 [==============================] - 0s 2ms/step - loss: 37135368192.0000 - val_loss: 36714524672.0000\n",
            "Epoch 74/400\n",
            "119/119 [==============================] - 0s 2ms/step - loss: 36921233408.0000 - val_loss: 36527144960.0000\n",
            "Epoch 75/400\n",
            "119/119 [==============================] - 0s 2ms/step - loss: 36756733952.0000 - val_loss: 36380991488.0000\n",
            "Epoch 76/400\n",
            "119/119 [==============================] - 0s 2ms/step - loss: 36556972032.0000 - val_loss: 36147814400.0000\n",
            "Epoch 77/400\n",
            "119/119 [==============================] - 0s 2ms/step - loss: 36404031488.0000 - val_loss: 35939356672.0000\n",
            "Epoch 78/400\n",
            "119/119 [==============================] - 0s 3ms/step - loss: 36223324160.0000 - val_loss: 35750002688.0000\n",
            "Epoch 79/400\n",
            "119/119 [==============================] - 0s 2ms/step - loss: 36032512000.0000 - val_loss: 35562307584.0000\n",
            "Epoch 80/400\n",
            "119/119 [==============================] - 0s 2ms/step - loss: 35881517056.0000 - val_loss: 35424772096.0000\n",
            "Epoch 81/400\n",
            "119/119 [==============================] - 0s 2ms/step - loss: 35729797120.0000 - val_loss: 35260112896.0000\n",
            "Epoch 82/400\n",
            "119/119 [==============================] - 0s 2ms/step - loss: 35630129152.0000 - val_loss: 35053080576.0000\n",
            "Epoch 83/400\n",
            "119/119 [==============================] - 0s 2ms/step - loss: 35460313088.0000 - val_loss: 34957115392.0000\n",
            "Epoch 84/400\n",
            "119/119 [==============================] - 0s 2ms/step - loss: 35312660480.0000 - val_loss: 34849583104.0000\n",
            "Epoch 85/400\n",
            "119/119 [==============================] - 0s 2ms/step - loss: 35226542080.0000 - val_loss: 34729644032.0000\n",
            "Epoch 86/400\n",
            "119/119 [==============================] - 0s 2ms/step - loss: 35137445888.0000 - val_loss: 34627305472.0000\n",
            "Epoch 87/400\n",
            "119/119 [==============================] - 0s 2ms/step - loss: 35055128576.0000 - val_loss: 34549354496.0000\n",
            "Epoch 88/400\n",
            "119/119 [==============================] - 0s 2ms/step - loss: 34937135104.0000 - val_loss: 34439294976.0000\n",
            "Epoch 89/400\n",
            "119/119 [==============================] - 0s 2ms/step - loss: 34851946496.0000 - val_loss: 34330996736.0000\n",
            "Epoch 90/400\n",
            "119/119 [==============================] - 0s 3ms/step - loss: 34769788928.0000 - val_loss: 34281246720.0000\n",
            "Epoch 91/400\n",
            "119/119 [==============================] - 0s 2ms/step - loss: 34646982656.0000 - val_loss: 34182719488.0000\n",
            "Epoch 92/400\n",
            "119/119 [==============================] - 0s 2ms/step - loss: 34572427264.0000 - val_loss: 34061086720.0000\n",
            "Epoch 93/400\n",
            "119/119 [==============================] - 0s 2ms/step - loss: 34495348736.0000 - val_loss: 33971243008.0000\n",
            "Epoch 94/400\n",
            "119/119 [==============================] - 0s 2ms/step - loss: 34394152960.0000 - val_loss: 33908557824.0000\n",
            "Epoch 95/400\n",
            "119/119 [==============================] - 0s 2ms/step - loss: 34309627904.0000 - val_loss: 33795952640.0000\n",
            "Epoch 96/400\n",
            "119/119 [==============================] - 0s 2ms/step - loss: 34236577792.0000 - val_loss: 33827604480.0000\n",
            "Epoch 97/400\n",
            "119/119 [==============================] - 0s 2ms/step - loss: 34176020480.0000 - val_loss: 33739204608.0000\n",
            "Epoch 98/400\n",
            "119/119 [==============================] - 0s 2ms/step - loss: 34114258944.0000 - val_loss: 33549522944.0000\n",
            "Epoch 99/400\n",
            "119/119 [==============================] - 0s 2ms/step - loss: 33984645120.0000 - val_loss: 33486143488.0000\n",
            "Epoch 100/400\n",
            "119/119 [==============================] - 0s 2ms/step - loss: 33912750080.0000 - val_loss: 33432877056.0000\n",
            "Epoch 101/400\n",
            "119/119 [==============================] - 0s 2ms/step - loss: 33853822976.0000 - val_loss: 33373376512.0000\n",
            "Epoch 102/400\n",
            "119/119 [==============================] - 0s 2ms/step - loss: 33771780096.0000 - val_loss: 33264740352.0000\n",
            "Epoch 103/400\n",
            "119/119 [==============================] - 0s 2ms/step - loss: 33662425088.0000 - val_loss: 33350983680.0000\n",
            "Epoch 104/400\n",
            "119/119 [==============================] - 0s 2ms/step - loss: 33651761152.0000 - val_loss: 33059072000.0000\n",
            "Epoch 105/400\n",
            "119/119 [==============================] - 0s 2ms/step - loss: 33549834240.0000 - val_loss: 32999145472.0000\n",
            "Epoch 106/400\n",
            "119/119 [==============================] - 0s 2ms/step - loss: 33439645696.0000 - val_loss: 32887271424.0000\n",
            "Epoch 107/400\n",
            "119/119 [==============================] - 0s 3ms/step - loss: 33332326400.0000 - val_loss: 32850278400.0000\n",
            "Epoch 108/400\n",
            "119/119 [==============================] - 0s 2ms/step - loss: 33280337920.0000 - val_loss: 32685467648.0000\n",
            "Epoch 109/400\n",
            "119/119 [==============================] - 0s 2ms/step - loss: 33173587968.0000 - val_loss: 32587894784.0000\n",
            "Epoch 110/400\n",
            "119/119 [==============================] - 0s 2ms/step - loss: 33099825152.0000 - val_loss: 32517224448.0000\n",
            "Epoch 111/400\n",
            "119/119 [==============================] - 0s 2ms/step - loss: 33031174144.0000 - val_loss: 32460265472.0000\n",
            "Epoch 112/400\n",
            "119/119 [==============================] - 0s 2ms/step - loss: 32957333504.0000 - val_loss: 32350470144.0000\n",
            "Epoch 113/400\n",
            "119/119 [==============================] - 0s 2ms/step - loss: 32883341312.0000 - val_loss: 32280172544.0000\n",
            "Epoch 114/400\n",
            "119/119 [==============================] - 0s 3ms/step - loss: 32831903744.0000 - val_loss: 32216471552.0000\n",
            "Epoch 115/400\n",
            "119/119 [==============================] - 0s 2ms/step - loss: 32749537280.0000 - val_loss: 32180989952.0000\n",
            "Epoch 116/400\n",
            "119/119 [==============================] - 0s 2ms/step - loss: 32685600768.0000 - val_loss: 32108642304.0000\n",
            "Epoch 117/400\n",
            "119/119 [==============================] - 0s 3ms/step - loss: 32664823808.0000 - val_loss: 32030898176.0000\n",
            "Epoch 118/400\n",
            "119/119 [==============================] - 0s 2ms/step - loss: 32545701888.0000 - val_loss: 31951988736.0000\n",
            "Epoch 119/400\n",
            "119/119 [==============================] - 0s 2ms/step - loss: 32535889920.0000 - val_loss: 31870582784.0000\n",
            "Epoch 120/400\n",
            "119/119 [==============================] - 0s 2ms/step - loss: 32465590272.0000 - val_loss: 31820150784.0000\n",
            "Epoch 121/400\n",
            "119/119 [==============================] - 0s 2ms/step - loss: 32402536448.0000 - val_loss: 31743858688.0000\n",
            "Epoch 122/400\n",
            "119/119 [==============================] - 0s 2ms/step - loss: 32361148416.0000 - val_loss: 31679559680.0000\n",
            "Epoch 123/400\n",
            "119/119 [==============================] - 0s 2ms/step - loss: 32305076224.0000 - val_loss: 31621554176.0000\n",
            "Epoch 124/400\n",
            "119/119 [==============================] - 0s 2ms/step - loss: 32211810304.0000 - val_loss: 31563653120.0000\n",
            "Epoch 125/400\n",
            "119/119 [==============================] - 0s 2ms/step - loss: 32156940288.0000 - val_loss: 31605399552.0000\n",
            "Epoch 126/400\n",
            "119/119 [==============================] - 0s 3ms/step - loss: 32117442560.0000 - val_loss: 31439650816.0000\n",
            "Epoch 127/400\n",
            "119/119 [==============================] - 0s 2ms/step - loss: 32045166592.0000 - val_loss: 31376136192.0000\n",
            "Epoch 128/400\n",
            "119/119 [==============================] - 0s 2ms/step - loss: 32069664768.0000 - val_loss: 31343816704.0000\n",
            "Epoch 129/400\n",
            "119/119 [==============================] - 0s 2ms/step - loss: 31938506752.0000 - val_loss: 31270508544.0000\n",
            "Epoch 130/400\n",
            "119/119 [==============================] - 0s 2ms/step - loss: 31901272064.0000 - val_loss: 31200296960.0000\n",
            "Epoch 131/400\n",
            "119/119 [==============================] - 0s 3ms/step - loss: 31847745536.0000 - val_loss: 31122198528.0000\n",
            "Epoch 132/400\n",
            "119/119 [==============================] - 0s 2ms/step - loss: 31793989632.0000 - val_loss: 31078105088.0000\n",
            "Epoch 133/400\n",
            "119/119 [==============================] - 0s 2ms/step - loss: 31765340160.0000 - val_loss: 31082678272.0000\n",
            "Epoch 134/400\n",
            "119/119 [==============================] - 0s 2ms/step - loss: 31722264576.0000 - val_loss: 30984857600.0000\n",
            "Epoch 135/400\n",
            "119/119 [==============================] - 0s 2ms/step - loss: 31672289280.0000 - val_loss: 30931322880.0000\n",
            "Epoch 136/400\n",
            "119/119 [==============================] - 0s 2ms/step - loss: 31611217920.0000 - val_loss: 30891542528.0000\n",
            "Epoch 137/400\n",
            "119/119 [==============================] - 0s 2ms/step - loss: 31543912448.0000 - val_loss: 30889785344.0000\n",
            "Epoch 138/400\n",
            "119/119 [==============================] - 0s 2ms/step - loss: 31561996288.0000 - val_loss: 30800924672.0000\n",
            "Epoch 139/400\n",
            "119/119 [==============================] - 0s 2ms/step - loss: 31511369728.0000 - val_loss: 30763266048.0000\n",
            "Epoch 140/400\n",
            "119/119 [==============================] - 0s 3ms/step - loss: 31457196032.0000 - val_loss: 30745565184.0000\n",
            "Epoch 141/400\n",
            "119/119 [==============================] - 0s 2ms/step - loss: 31423971328.0000 - val_loss: 30688593920.0000\n",
            "Epoch 142/400\n",
            "119/119 [==============================] - 0s 2ms/step - loss: 31429795840.0000 - val_loss: 30679375872.0000\n",
            "Epoch 143/400\n",
            "119/119 [==============================] - 0s 2ms/step - loss: 31364526080.0000 - val_loss: 30630459392.0000\n",
            "Epoch 144/400\n",
            "119/119 [==============================] - 0s 3ms/step - loss: 31273945088.0000 - val_loss: 30595047424.0000\n",
            "Epoch 145/400\n",
            "119/119 [==============================] - 0s 2ms/step - loss: 31282698240.0000 - val_loss: 30553131008.0000\n",
            "Epoch 146/400\n",
            "119/119 [==============================] - 0s 2ms/step - loss: 31217864704.0000 - val_loss: 30525132800.0000\n",
            "Epoch 147/400\n",
            "119/119 [==============================] - 0s 3ms/step - loss: 31222259712.0000 - val_loss: 30448955392.0000\n",
            "Epoch 148/400\n",
            "119/119 [==============================] - 0s 3ms/step - loss: 31142955008.0000 - val_loss: 30416422912.0000\n",
            "Epoch 149/400\n",
            "119/119 [==============================] - 0s 2ms/step - loss: 31101499392.0000 - val_loss: 30531950592.0000\n",
            "Epoch 150/400\n",
            "119/119 [==============================] - 0s 2ms/step - loss: 31102916608.0000 - val_loss: 30360317952.0000\n",
            "Epoch 151/400\n",
            "119/119 [==============================] - 0s 2ms/step - loss: 31024046080.0000 - val_loss: 30319339520.0000\n",
            "Epoch 152/400\n",
            "119/119 [==============================] - 0s 2ms/step - loss: 31000430592.0000 - val_loss: 30279192576.0000\n",
            "Epoch 153/400\n",
            "119/119 [==============================] - 0s 2ms/step - loss: 31090477056.0000 - val_loss: 30263953408.0000\n",
            "Epoch 154/400\n",
            "119/119 [==============================] - 0s 3ms/step - loss: 30990338048.0000 - val_loss: 30252163072.0000\n",
            "Epoch 155/400\n",
            "119/119 [==============================] - 0s 2ms/step - loss: 30925727744.0000 - val_loss: 30222299136.0000\n",
            "Epoch 156/400\n",
            "119/119 [==============================] - 0s 2ms/step - loss: 30879062016.0000 - val_loss: 30177902592.0000\n",
            "Epoch 157/400\n",
            "119/119 [==============================] - 0s 2ms/step - loss: 30879645696.0000 - val_loss: 30153218048.0000\n",
            "Epoch 158/400\n",
            "119/119 [==============================] - 0s 2ms/step - loss: 30814756864.0000 - val_loss: 30222059520.0000\n",
            "Epoch 159/400\n",
            "119/119 [==============================] - 0s 2ms/step - loss: 30806769664.0000 - val_loss: 30078001152.0000\n",
            "Epoch 160/400\n",
            "119/119 [==============================] - 0s 2ms/step - loss: 30789398528.0000 - val_loss: 30096029696.0000\n",
            "Epoch 161/400\n",
            "119/119 [==============================] - 0s 2ms/step - loss: 30729246720.0000 - val_loss: 30015164416.0000\n",
            "Epoch 162/400\n",
            "119/119 [==============================] - 0s 3ms/step - loss: 30700292096.0000 - val_loss: 30043602944.0000\n",
            "Epoch 163/400\n",
            "119/119 [==============================] - 0s 2ms/step - loss: 30691082240.0000 - val_loss: 29982965760.0000\n",
            "Epoch 164/400\n",
            "119/119 [==============================] - 0s 3ms/step - loss: 30663063552.0000 - val_loss: 29931239424.0000\n",
            "Epoch 165/400\n",
            "119/119 [==============================] - 0s 3ms/step - loss: 30634360832.0000 - val_loss: 29920567296.0000\n",
            "Epoch 166/400\n",
            "119/119 [==============================] - 0s 2ms/step - loss: 30595698688.0000 - val_loss: 29891074048.0000\n",
            "Epoch 167/400\n",
            "119/119 [==============================] - 0s 2ms/step - loss: 30578190336.0000 - val_loss: 29851992064.0000\n",
            "Epoch 168/400\n",
            "119/119 [==============================] - 0s 3ms/step - loss: 30556669952.0000 - val_loss: 29882978304.0000\n",
            "Epoch 169/400\n",
            "119/119 [==============================] - 0s 3ms/step - loss: 30506059776.0000 - val_loss: 29792151552.0000\n",
            "Epoch 170/400\n",
            "119/119 [==============================] - 0s 3ms/step - loss: 30500728832.0000 - val_loss: 29834424320.0000\n",
            "Epoch 171/400\n",
            "119/119 [==============================] - 0s 3ms/step - loss: 30454292480.0000 - val_loss: 29738510336.0000\n",
            "Epoch 172/400\n",
            "119/119 [==============================] - 0s 3ms/step - loss: 30441459712.0000 - val_loss: 29806501888.0000\n",
            "Epoch 173/400\n",
            "119/119 [==============================] - 0s 3ms/step - loss: 30430414848.0000 - val_loss: 29690699776.0000\n",
            "Epoch 174/400\n",
            "119/119 [==============================] - 0s 3ms/step - loss: 30389964800.0000 - val_loss: 29650302976.0000\n",
            "Epoch 175/400\n",
            "119/119 [==============================] - 0s 3ms/step - loss: 30356350976.0000 - val_loss: 29624795136.0000\n",
            "Epoch 176/400\n",
            "119/119 [==============================] - 0s 3ms/step - loss: 30312828928.0000 - val_loss: 29686765568.0000\n",
            "Epoch 177/400\n",
            "119/119 [==============================] - 0s 3ms/step - loss: 30336731136.0000 - val_loss: 29596796928.0000\n",
            "Epoch 178/400\n",
            "119/119 [==============================] - 0s 3ms/step - loss: 30266363904.0000 - val_loss: 29556156416.0000\n",
            "Epoch 179/400\n",
            "119/119 [==============================] - 0s 3ms/step - loss: 30263164928.0000 - val_loss: 29530185728.0000\n",
            "Epoch 180/400\n",
            "119/119 [==============================] - 0s 3ms/step - loss: 30259478528.0000 - val_loss: 29547192320.0000\n",
            "Epoch 181/400\n",
            "119/119 [==============================] - 0s 3ms/step - loss: 30197518336.0000 - val_loss: 29471811584.0000\n",
            "Epoch 182/400\n",
            "119/119 [==============================] - 0s 3ms/step - loss: 30190913536.0000 - val_loss: 29457958912.0000\n",
            "Epoch 183/400\n",
            "119/119 [==============================] - 0s 3ms/step - loss: 30134544384.0000 - val_loss: 29413113856.0000\n",
            "Epoch 184/400\n",
            "119/119 [==============================] - 0s 3ms/step - loss: 30148102144.0000 - val_loss: 29409820672.0000\n",
            "Epoch 185/400\n",
            "119/119 [==============================] - 0s 3ms/step - loss: 30079289344.0000 - val_loss: 29455390720.0000\n",
            "Epoch 186/400\n",
            "119/119 [==============================] - 0s 3ms/step - loss: 30067875840.0000 - val_loss: 29334861824.0000\n",
            "Epoch 187/400\n",
            "119/119 [==============================] - 0s 3ms/step - loss: 30042394624.0000 - val_loss: 29309759488.0000\n",
            "Epoch 188/400\n",
            "119/119 [==============================] - 0s 3ms/step - loss: 30017720320.0000 - val_loss: 29289465856.0000\n",
            "Epoch 189/400\n",
            "119/119 [==============================] - 0s 3ms/step - loss: 30008186880.0000 - val_loss: 29285771264.0000\n",
            "Epoch 190/400\n",
            "119/119 [==============================] - 0s 3ms/step - loss: 30013820928.0000 - val_loss: 29273929728.0000\n",
            "Epoch 191/400\n",
            "119/119 [==============================] - 0s 3ms/step - loss: 29941573632.0000 - val_loss: 29337888768.0000\n",
            "Epoch 192/400\n",
            "119/119 [==============================] - 0s 3ms/step - loss: 29933275136.0000 - val_loss: 29199587328.0000\n",
            "Epoch 193/400\n",
            "119/119 [==============================] - 0s 3ms/step - loss: 29909018624.0000 - val_loss: 29173080064.0000\n",
            "Epoch 194/400\n",
            "119/119 [==============================] - 0s 3ms/step - loss: 29884616704.0000 - val_loss: 29154439168.0000\n",
            "Epoch 195/400\n",
            "119/119 [==============================] - 0s 3ms/step - loss: 29872637952.0000 - val_loss: 29123295232.0000\n",
            "Epoch 196/400\n",
            "119/119 [==============================] - 0s 3ms/step - loss: 29832101888.0000 - val_loss: 29226762240.0000\n",
            "Epoch 197/400\n",
            "119/119 [==============================] - 0s 3ms/step - loss: 29826105344.0000 - val_loss: 29149472768.0000\n",
            "Epoch 198/400\n",
            "119/119 [==============================] - 0s 3ms/step - loss: 29843253248.0000 - val_loss: 29100898304.0000\n",
            "Epoch 199/400\n",
            "119/119 [==============================] - 0s 2ms/step - loss: 29770962944.0000 - val_loss: 29100326912.0000\n",
            "Epoch 200/400\n",
            "119/119 [==============================] - 0s 2ms/step - loss: 29748631552.0000 - val_loss: 29022932992.0000\n",
            "Epoch 201/400\n",
            "119/119 [==============================] - 0s 3ms/step - loss: 29724706816.0000 - val_loss: 28995551232.0000\n",
            "Epoch 202/400\n",
            "119/119 [==============================] - 0s 2ms/step - loss: 29684899840.0000 - val_loss: 28976785408.0000\n",
            "Epoch 203/400\n",
            "119/119 [==============================] - 0s 2ms/step - loss: 29719552000.0000 - val_loss: 28954505216.0000\n",
            "Epoch 204/400\n",
            "119/119 [==============================] - 0s 2ms/step - loss: 29680547840.0000 - val_loss: 28952731648.0000\n",
            "Epoch 205/400\n",
            "119/119 [==============================] - 0s 2ms/step - loss: 29649262592.0000 - val_loss: 28944568320.0000\n",
            "Epoch 206/400\n",
            "119/119 [==============================] - 0s 2ms/step - loss: 29629696000.0000 - val_loss: 28963061760.0000\n",
            "Epoch 207/400\n",
            "119/119 [==============================] - 0s 2ms/step - loss: 29612087296.0000 - val_loss: 28871483392.0000\n",
            "Epoch 208/400\n",
            "119/119 [==============================] - 0s 2ms/step - loss: 29577074688.0000 - val_loss: 28851193856.0000\n",
            "Epoch 209/400\n",
            "119/119 [==============================] - 0s 2ms/step - loss: 29566224384.0000 - val_loss: 28877082624.0000\n",
            "Epoch 210/400\n",
            "119/119 [==============================] - 0s 2ms/step - loss: 29539016704.0000 - val_loss: 28836044800.0000\n",
            "Epoch 211/400\n",
            "119/119 [==============================] - 0s 3ms/step - loss: 29513615360.0000 - val_loss: 28878313472.0000\n",
            "Epoch 212/400\n",
            "119/119 [==============================] - 0s 2ms/step - loss: 29489295360.0000 - val_loss: 28784850944.0000\n",
            "Epoch 213/400\n",
            "119/119 [==============================] - 0s 2ms/step - loss: 29513158656.0000 - val_loss: 28744484864.0000\n",
            "Epoch 214/400\n",
            "119/119 [==============================] - 0s 2ms/step - loss: 29458098176.0000 - val_loss: 28720345088.0000\n",
            "Epoch 215/400\n",
            "119/119 [==============================] - 0s 2ms/step - loss: 29413554176.0000 - val_loss: 28712077312.0000\n",
            "Epoch 216/400\n",
            "119/119 [==============================] - 0s 2ms/step - loss: 29414619136.0000 - val_loss: 28676417536.0000\n",
            "Epoch 217/400\n",
            "119/119 [==============================] - 0s 2ms/step - loss: 29371494400.0000 - val_loss: 28664573952.0000\n",
            "Epoch 218/400\n",
            "119/119 [==============================] - 0s 2ms/step - loss: 29372487680.0000 - val_loss: 28646455296.0000\n",
            "Epoch 219/400\n",
            "119/119 [==============================] - 0s 2ms/step - loss: 29353572352.0000 - val_loss: 28647440384.0000\n",
            "Epoch 220/400\n",
            "119/119 [==============================] - 0s 2ms/step - loss: 29389527040.0000 - val_loss: 28662972416.0000\n",
            "Epoch 221/400\n",
            "119/119 [==============================] - 0s 2ms/step - loss: 29346713600.0000 - val_loss: 28621682688.0000\n",
            "Epoch 222/400\n",
            "119/119 [==============================] - 0s 2ms/step - loss: 29309171712.0000 - val_loss: 28649932800.0000\n",
            "Epoch 223/400\n",
            "119/119 [==============================] - 0s 2ms/step - loss: 29277100032.0000 - val_loss: 28559583232.0000\n",
            "Epoch 224/400\n",
            "119/119 [==============================] - 0s 2ms/step - loss: 29269860352.0000 - val_loss: 28583182336.0000\n",
            "Epoch 225/400\n",
            "119/119 [==============================] - 0s 2ms/step - loss: 29326737408.0000 - val_loss: 28638601216.0000\n",
            "Epoch 226/400\n",
            "119/119 [==============================] - 0s 2ms/step - loss: 29250777088.0000 - val_loss: 28861544448.0000\n",
            "Epoch 227/400\n",
            "119/119 [==============================] - 0s 2ms/step - loss: 29296349184.0000 - val_loss: 28588431360.0000\n",
            "Epoch 228/400\n",
            "119/119 [==============================] - 0s 2ms/step - loss: 29192306688.0000 - val_loss: 28526422016.0000\n",
            "Epoch 229/400\n",
            "119/119 [==============================] - 0s 3ms/step - loss: 29168545792.0000 - val_loss: 28439611392.0000\n",
            "Epoch 230/400\n",
            "119/119 [==============================] - 0s 2ms/step - loss: 29142388736.0000 - val_loss: 28507623424.0000\n",
            "Epoch 231/400\n",
            "119/119 [==============================] - 0s 2ms/step - loss: 29120909312.0000 - val_loss: 28443062272.0000\n",
            "Epoch 232/400\n",
            "119/119 [==============================] - 0s 3ms/step - loss: 29084162048.0000 - val_loss: 28457947136.0000\n",
            "Epoch 233/400\n",
            "119/119 [==============================] - 0s 2ms/step - loss: 29092397056.0000 - val_loss: 28531423232.0000\n",
            "Epoch 234/400\n",
            "119/119 [==============================] - 0s 2ms/step - loss: 29055580160.0000 - val_loss: 28378865664.0000\n",
            "Epoch 235/400\n",
            "119/119 [==============================] - 0s 2ms/step - loss: 29027215360.0000 - val_loss: 28366835712.0000\n",
            "Epoch 236/400\n",
            "119/119 [==============================] - 0s 2ms/step - loss: 28988022784.0000 - val_loss: 28353327104.0000\n",
            "Epoch 237/400\n",
            "119/119 [==============================] - 0s 2ms/step - loss: 28998631424.0000 - val_loss: 28409993216.0000\n",
            "Epoch 238/400\n",
            "119/119 [==============================] - 0s 2ms/step - loss: 28947480576.0000 - val_loss: 28318838784.0000\n",
            "Epoch 239/400\n",
            "119/119 [==============================] - 0s 3ms/step - loss: 28892966912.0000 - val_loss: 28431212544.0000\n",
            "Epoch 240/400\n",
            "119/119 [==============================] - 0s 2ms/step - loss: 28918833152.0000 - val_loss: 28299341824.0000\n",
            "Epoch 241/400\n",
            "119/119 [==============================] - 0s 2ms/step - loss: 28912709632.0000 - val_loss: 28266899456.0000\n",
            "Epoch 242/400\n",
            "119/119 [==============================] - 0s 3ms/step - loss: 28867307520.0000 - val_loss: 28383186944.0000\n",
            "Epoch 243/400\n",
            "119/119 [==============================] - 0s 2ms/step - loss: 28885180416.0000 - val_loss: 28240168960.0000\n",
            "Epoch 244/400\n",
            "119/119 [==============================] - 0s 2ms/step - loss: 28838115328.0000 - val_loss: 28238985216.0000\n",
            "Epoch 245/400\n",
            "119/119 [==============================] - 0s 2ms/step - loss: 28812879872.0000 - val_loss: 28227411968.0000\n",
            "Epoch 246/400\n",
            "119/119 [==============================] - 0s 3ms/step - loss: 28809347072.0000 - val_loss: 28237946880.0000\n",
            "Epoch 247/400\n",
            "119/119 [==============================] - 0s 2ms/step - loss: 28761683968.0000 - val_loss: 28379297792.0000\n",
            "Epoch 248/400\n",
            "119/119 [==============================] - 0s 2ms/step - loss: 28781285376.0000 - val_loss: 28175161344.0000\n",
            "Epoch 249/400\n",
            "119/119 [==============================] - 0s 2ms/step - loss: 28754384896.0000 - val_loss: 28162867200.0000\n",
            "Epoch 250/400\n",
            "119/119 [==============================] - 0s 2ms/step - loss: 28756924416.0000 - val_loss: 28171292672.0000\n",
            "Epoch 251/400\n",
            "119/119 [==============================] - 0s 2ms/step - loss: 28710293504.0000 - val_loss: 28134189056.0000\n",
            "Epoch 252/400\n",
            "119/119 [==============================] - 0s 2ms/step - loss: 28702169088.0000 - val_loss: 28191334400.0000\n",
            "Epoch 253/400\n",
            "119/119 [==============================] - 0s 2ms/step - loss: 28632039424.0000 - val_loss: 28424869888.0000\n",
            "Epoch 254/400\n",
            "119/119 [==============================] - 0s 2ms/step - loss: 28731514880.0000 - val_loss: 28136728576.0000\n",
            "Epoch 255/400\n",
            "119/119 [==============================] - 0s 2ms/step - loss: 28668942336.0000 - val_loss: 28284078080.0000\n",
            "Epoch 256/400\n",
            "119/119 [==============================] - 0s 2ms/step - loss: 28558344192.0000 - val_loss: 28064884736.0000\n",
            "Epoch 257/400\n",
            "119/119 [==============================] - 0s 2ms/step - loss: 28568834048.0000 - val_loss: 28074737664.0000\n",
            "Epoch 258/400\n",
            "119/119 [==============================] - 0s 2ms/step - loss: 28591024128.0000 - val_loss: 28051271680.0000\n",
            "Epoch 259/400\n",
            "119/119 [==============================] - 0s 2ms/step - loss: 28541978624.0000 - val_loss: 28052606976.0000\n",
            "Epoch 260/400\n",
            "119/119 [==============================] - 0s 2ms/step - loss: 28496273408.0000 - val_loss: 28090460160.0000\n",
            "Epoch 261/400\n",
            "119/119 [==============================] - 0s 2ms/step - loss: 28495540224.0000 - val_loss: 28000944128.0000\n",
            "Epoch 262/400\n",
            "119/119 [==============================] - 0s 2ms/step - loss: 28465670144.0000 - val_loss: 28015740928.0000\n",
            "Epoch 263/400\n",
            "119/119 [==============================] - 0s 2ms/step - loss: 28441862144.0000 - val_loss: 27964895232.0000\n",
            "Epoch 264/400\n",
            "119/119 [==============================] - 0s 2ms/step - loss: 28401782784.0000 - val_loss: 27935920128.0000\n",
            "Epoch 265/400\n",
            "119/119 [==============================] - 0s 2ms/step - loss: 28468817920.0000 - val_loss: 27978031104.0000\n",
            "Epoch 266/400\n",
            "119/119 [==============================] - 0s 2ms/step - loss: 28395503616.0000 - val_loss: 27914088448.0000\n",
            "Epoch 267/400\n",
            "119/119 [==============================] - 0s 3ms/step - loss: 28433639424.0000 - val_loss: 27952148480.0000\n",
            "Epoch 268/400\n",
            "119/119 [==============================] - 0s 2ms/step - loss: 28374358016.0000 - val_loss: 27883595776.0000\n",
            "Epoch 269/400\n",
            "119/119 [==============================] - 0s 2ms/step - loss: 28362039296.0000 - val_loss: 28022165504.0000\n",
            "Epoch 270/400\n",
            "119/119 [==============================] - 0s 2ms/step - loss: 28343848960.0000 - val_loss: 27882168320.0000\n",
            "Epoch 271/400\n",
            "119/119 [==============================] - 0s 2ms/step - loss: 28292169728.0000 - val_loss: 27840843776.0000\n",
            "Epoch 272/400\n",
            "119/119 [==============================] - 0s 2ms/step - loss: 28294584320.0000 - val_loss: 27826710528.0000\n",
            "Epoch 273/400\n",
            "119/119 [==============================] - 0s 2ms/step - loss: 28265367552.0000 - val_loss: 27832487936.0000\n",
            "Epoch 274/400\n",
            "119/119 [==============================] - 0s 2ms/step - loss: 28256770048.0000 - val_loss: 27831126016.0000\n",
            "Epoch 275/400\n",
            "119/119 [==============================] - 0s 2ms/step - loss: 28245329920.0000 - val_loss: 27794059264.0000\n",
            "Epoch 276/400\n",
            "119/119 [==============================] - 0s 2ms/step - loss: 28194979840.0000 - val_loss: 27997749248.0000\n",
            "Epoch 277/400\n",
            "119/119 [==============================] - 0s 2ms/step - loss: 28295475200.0000 - val_loss: 27752642560.0000\n",
            "Epoch 278/400\n",
            "119/119 [==============================] - 0s 2ms/step - loss: 28183519232.0000 - val_loss: 27801827328.0000\n",
            "Epoch 279/400\n",
            "119/119 [==============================] - 0s 2ms/step - loss: 28196685824.0000 - val_loss: 27891306496.0000\n",
            "Epoch 280/400\n",
            "119/119 [==============================] - 0s 2ms/step - loss: 28130318336.0000 - val_loss: 27710781440.0000\n",
            "Epoch 281/400\n",
            "119/119 [==============================] - 0s 2ms/step - loss: 28159930368.0000 - val_loss: 27717679104.0000\n",
            "Epoch 282/400\n",
            "119/119 [==============================] - 0s 3ms/step - loss: 28137306112.0000 - val_loss: 27709065216.0000\n",
            "Epoch 283/400\n",
            "119/119 [==============================] - 0s 2ms/step - loss: 28142542848.0000 - val_loss: 27695798272.0000\n",
            "Epoch 284/400\n",
            "119/119 [==============================] - 0s 2ms/step - loss: 28118456320.0000 - val_loss: 27668332544.0000\n",
            "Epoch 285/400\n",
            "119/119 [==============================] - 0s 2ms/step - loss: 28062810112.0000 - val_loss: 27846789120.0000\n",
            "Epoch 286/400\n",
            "119/119 [==============================] - 0s 2ms/step - loss: 28041488384.0000 - val_loss: 27656398848.0000\n",
            "Epoch 287/400\n",
            "119/119 [==============================] - 0s 2ms/step - loss: 28022378496.0000 - val_loss: 27634057216.0000\n",
            "Epoch 288/400\n",
            "119/119 [==============================] - 0s 2ms/step - loss: 28022050816.0000 - val_loss: 27604197376.0000\n",
            "Epoch 289/400\n",
            "119/119 [==============================] - 0s 2ms/step - loss: 27975442432.0000 - val_loss: 27590023168.0000\n",
            "Epoch 290/400\n",
            "119/119 [==============================] - 0s 2ms/step - loss: 27980961792.0000 - val_loss: 27561476096.0000\n",
            "Epoch 291/400\n",
            "119/119 [==============================] - 0s 2ms/step - loss: 27956733952.0000 - val_loss: 27729598464.0000\n",
            "Epoch 292/400\n",
            "119/119 [==============================] - 0s 2ms/step - loss: 27972237312.0000 - val_loss: 27557283840.0000\n",
            "Epoch 293/400\n",
            "119/119 [==============================] - 0s 2ms/step - loss: 27917770752.0000 - val_loss: 27612411904.0000\n",
            "Epoch 294/400\n",
            "119/119 [==============================] - 0s 3ms/step - loss: 27952248832.0000 - val_loss: 27580418048.0000\n",
            "Epoch 295/400\n",
            "119/119 [==============================] - 0s 2ms/step - loss: 27925155840.0000 - val_loss: 27587696640.0000\n",
            "Epoch 296/400\n",
            "119/119 [==============================] - 0s 2ms/step - loss: 27872473088.0000 - val_loss: 27506362368.0000\n",
            "Epoch 297/400\n",
            "119/119 [==============================] - 0s 2ms/step - loss: 27839938560.0000 - val_loss: 27444674560.0000\n",
            "Epoch 298/400\n",
            "119/119 [==============================] - 0s 2ms/step - loss: 27804977152.0000 - val_loss: 27456778240.0000\n",
            "Epoch 299/400\n",
            "119/119 [==============================] - 0s 3ms/step - loss: 27796391936.0000 - val_loss: 27426271232.0000\n",
            "Epoch 300/400\n",
            "119/119 [==============================] - 0s 3ms/step - loss: 27819010048.0000 - val_loss: 27497097216.0000\n",
            "Epoch 301/400\n",
            "119/119 [==============================] - 0s 2ms/step - loss: 27769403392.0000 - val_loss: 27393568768.0000\n",
            "Epoch 302/400\n",
            "119/119 [==============================] - 0s 3ms/step - loss: 27755876352.0000 - val_loss: 27394213888.0000\n",
            "Epoch 303/400\n",
            "119/119 [==============================] - 0s 2ms/step - loss: 27760041984.0000 - val_loss: 27390394368.0000\n",
            "Epoch 304/400\n",
            "119/119 [==============================] - 0s 2ms/step - loss: 27746326528.0000 - val_loss: 27340910592.0000\n",
            "Epoch 305/400\n",
            "119/119 [==============================] - 0s 2ms/step - loss: 27710824448.0000 - val_loss: 27341590528.0000\n",
            "Epoch 306/400\n",
            "119/119 [==============================] - 0s 2ms/step - loss: 27688546304.0000 - val_loss: 27308789760.0000\n",
            "Epoch 307/400\n",
            "119/119 [==============================] - 0s 2ms/step - loss: 27640395776.0000 - val_loss: 27279970304.0000\n",
            "Epoch 308/400\n",
            "119/119 [==============================] - 0s 2ms/step - loss: 27663949824.0000 - val_loss: 27294785536.0000\n",
            "Epoch 309/400\n",
            "119/119 [==============================] - 0s 2ms/step - loss: 27611897856.0000 - val_loss: 27315613696.0000\n",
            "Epoch 310/400\n",
            "119/119 [==============================] - 0s 2ms/step - loss: 27609894912.0000 - val_loss: 27280695296.0000\n",
            "Epoch 311/400\n",
            "119/119 [==============================] - 0s 2ms/step - loss: 27613859840.0000 - val_loss: 27224133632.0000\n",
            "Epoch 312/400\n",
            "119/119 [==============================] - 0s 2ms/step - loss: 27574276096.0000 - val_loss: 27260315648.0000\n",
            "Epoch 313/400\n",
            "119/119 [==============================] - 0s 2ms/step - loss: 27525939200.0000 - val_loss: 27188025344.0000\n",
            "Epoch 314/400\n",
            "119/119 [==============================] - 0s 2ms/step - loss: 27554486272.0000 - val_loss: 27170025472.0000\n",
            "Epoch 315/400\n",
            "119/119 [==============================] - 0s 2ms/step - loss: 27515566080.0000 - val_loss: 27165595648.0000\n",
            "Epoch 316/400\n",
            "119/119 [==============================] - 0s 2ms/step - loss: 27530911744.0000 - val_loss: 27197292544.0000\n",
            "Epoch 317/400\n",
            "119/119 [==============================] - 0s 3ms/step - loss: 27515832320.0000 - val_loss: 27228270592.0000\n",
            "Epoch 318/400\n",
            "119/119 [==============================] - 0s 2ms/step - loss: 27480832000.0000 - val_loss: 27118133248.0000\n",
            "Epoch 319/400\n",
            "119/119 [==============================] - 0s 2ms/step - loss: 27458508800.0000 - val_loss: 27107147776.0000\n",
            "Epoch 320/400\n",
            "119/119 [==============================] - 0s 2ms/step - loss: 27433873408.0000 - val_loss: 27089213440.0000\n",
            "Epoch 321/400\n",
            "119/119 [==============================] - 0s 2ms/step - loss: 27405039616.0000 - val_loss: 27150563328.0000\n",
            "Epoch 322/400\n",
            "119/119 [==============================] - 0s 3ms/step - loss: 27403941888.0000 - val_loss: 27119378432.0000\n",
            "Epoch 323/400\n",
            "119/119 [==============================] - 0s 2ms/step - loss: 27351435264.0000 - val_loss: 27050393600.0000\n",
            "Epoch 324/400\n",
            "119/119 [==============================] - 0s 2ms/step - loss: 27313870848.0000 - val_loss: 27019108352.0000\n",
            "Epoch 325/400\n",
            "119/119 [==============================] - 0s 2ms/step - loss: 27339243520.0000 - val_loss: 26990624768.0000\n",
            "Epoch 326/400\n",
            "119/119 [==============================] - 0s 2ms/step - loss: 27285155840.0000 - val_loss: 26973157376.0000\n",
            "Epoch 327/400\n",
            "119/119 [==============================] - 0s 2ms/step - loss: 27263358976.0000 - val_loss: 26954012672.0000\n",
            "Epoch 328/400\n",
            "119/119 [==============================] - 0s 2ms/step - loss: 27290773504.0000 - val_loss: 26942128128.0000\n",
            "Epoch 329/400\n",
            "119/119 [==============================] - 0s 2ms/step - loss: 27233572864.0000 - val_loss: 27030835200.0000\n",
            "Epoch 330/400\n",
            "119/119 [==============================] - 0s 2ms/step - loss: 27217264640.0000 - val_loss: 26954977280.0000\n",
            "Epoch 331/400\n",
            "119/119 [==============================] - 0s 3ms/step - loss: 27231471616.0000 - val_loss: 26934697984.0000\n",
            "Epoch 332/400\n",
            "119/119 [==============================] - 0s 3ms/step - loss: 27181094912.0000 - val_loss: 26923108352.0000\n",
            "Epoch 333/400\n",
            "119/119 [==============================] - 0s 2ms/step - loss: 27185289216.0000 - val_loss: 26866212864.0000\n",
            "Epoch 334/400\n",
            "119/119 [==============================] - 0s 2ms/step - loss: 27125663744.0000 - val_loss: 26871109632.0000\n",
            "Epoch 335/400\n",
            "119/119 [==============================] - 0s 3ms/step - loss: 27121895424.0000 - val_loss: 26872475648.0000\n",
            "Epoch 336/400\n",
            "119/119 [==============================] - 0s 3ms/step - loss: 27106502656.0000 - val_loss: 26842054656.0000\n",
            "Epoch 337/400\n",
            "119/119 [==============================] - 0s 2ms/step - loss: 27094478848.0000 - val_loss: 26829391872.0000\n",
            "Epoch 338/400\n",
            "119/119 [==============================] - 0s 3ms/step - loss: 27077439488.0000 - val_loss: 26790778880.0000\n",
            "Epoch 339/400\n",
            "119/119 [==============================] - 0s 2ms/step - loss: 27037231104.0000 - val_loss: 26788775936.0000\n",
            "Epoch 340/400\n",
            "119/119 [==============================] - 0s 2ms/step - loss: 26996916224.0000 - val_loss: 26818338816.0000\n",
            "Epoch 341/400\n",
            "119/119 [==============================] - 0s 3ms/step - loss: 26980827136.0000 - val_loss: 26765168640.0000\n",
            "Epoch 342/400\n",
            "119/119 [==============================] - 0s 2ms/step - loss: 26994026496.0000 - val_loss: 26779934720.0000\n",
            "Epoch 343/400\n",
            "119/119 [==============================] - 0s 2ms/step - loss: 26998687744.0000 - val_loss: 26732058624.0000\n",
            "Epoch 344/400\n",
            "119/119 [==============================] - 0s 2ms/step - loss: 26943410176.0000 - val_loss: 26734022656.0000\n",
            "Epoch 345/400\n",
            "119/119 [==============================] - 0s 2ms/step - loss: 26925410304.0000 - val_loss: 26734710784.0000\n",
            "Epoch 346/400\n",
            "119/119 [==============================] - 0s 2ms/step - loss: 26903359488.0000 - val_loss: 26717464576.0000\n",
            "Epoch 347/400\n",
            "119/119 [==============================] - 0s 2ms/step - loss: 26881220608.0000 - val_loss: 26672519168.0000\n",
            "Epoch 348/400\n",
            "119/119 [==============================] - 0s 2ms/step - loss: 26861172736.0000 - val_loss: 26661087232.0000\n",
            "Epoch 349/400\n",
            "119/119 [==============================] - 0s 2ms/step - loss: 26837460992.0000 - val_loss: 26680848384.0000\n",
            "Epoch 350/400\n",
            "119/119 [==============================] - 0s 2ms/step - loss: 26861637632.0000 - val_loss: 26643937280.0000\n",
            "Epoch 351/400\n",
            "119/119 [==============================] - 0s 2ms/step - loss: 26792658944.0000 - val_loss: 26619502592.0000\n",
            "Epoch 352/400\n",
            "119/119 [==============================] - 0s 2ms/step - loss: 26789216256.0000 - val_loss: 26634772480.0000\n",
            "Epoch 353/400\n",
            "119/119 [==============================] - 0s 2ms/step - loss: 26788528128.0000 - val_loss: 26661464064.0000\n",
            "Epoch 354/400\n",
            "119/119 [==============================] - 0s 2ms/step - loss: 26741352448.0000 - val_loss: 26620696576.0000\n",
            "Epoch 355/400\n",
            "119/119 [==============================] - 0s 2ms/step - loss: 26779922432.0000 - val_loss: 26606247936.0000\n",
            "Epoch 356/400\n",
            "119/119 [==============================] - 0s 2ms/step - loss: 26711930880.0000 - val_loss: 26576635904.0000\n",
            "Epoch 357/400\n",
            "119/119 [==============================] - 0s 2ms/step - loss: 26726555648.0000 - val_loss: 26591318016.0000\n",
            "Epoch 358/400\n",
            "119/119 [==============================] - 0s 2ms/step - loss: 26724108288.0000 - val_loss: 26575298560.0000\n",
            "Epoch 359/400\n",
            "119/119 [==============================] - 0s 2ms/step - loss: 26669699072.0000 - val_loss: 26522411008.0000\n",
            "Epoch 360/400\n",
            "119/119 [==============================] - 0s 2ms/step - loss: 26625540096.0000 - val_loss: 26575167488.0000\n",
            "Epoch 361/400\n",
            "119/119 [==============================] - 0s 2ms/step - loss: 26607853568.0000 - val_loss: 26505754624.0000\n",
            "Epoch 362/400\n",
            "119/119 [==============================] - 0s 2ms/step - loss: 26638047232.0000 - val_loss: 26512883712.0000\n",
            "Epoch 363/400\n",
            "119/119 [==============================] - 0s 2ms/step - loss: 26631352320.0000 - val_loss: 26501595136.0000\n",
            "Epoch 364/400\n",
            "119/119 [==============================] - 0s 2ms/step - loss: 26610528256.0000 - val_loss: 26465456128.0000\n",
            "Epoch 365/400\n",
            "119/119 [==============================] - 0s 2ms/step - loss: 26592186368.0000 - val_loss: 26484586496.0000\n",
            "Epoch 366/400\n",
            "119/119 [==============================] - 0s 2ms/step - loss: 26550640640.0000 - val_loss: 26454861824.0000\n",
            "Epoch 367/400\n",
            "119/119 [==============================] - 0s 2ms/step - loss: 26512588800.0000 - val_loss: 26450577408.0000\n",
            "Epoch 368/400\n",
            "119/119 [==============================] - 0s 2ms/step - loss: 26518265856.0000 - val_loss: 26666489856.0000\n",
            "Epoch 369/400\n",
            "119/119 [==============================] - 0s 2ms/step - loss: 26507544576.0000 - val_loss: 26403397632.0000\n",
            "Epoch 370/400\n",
            "119/119 [==============================] - 0s 2ms/step - loss: 26516072448.0000 - val_loss: 26397446144.0000\n",
            "Epoch 371/400\n",
            "119/119 [==============================] - 0s 4ms/step - loss: 26416902144.0000 - val_loss: 26413238272.0000\n",
            "Epoch 372/400\n",
            "119/119 [==============================] - 0s 2ms/step - loss: 26447312896.0000 - val_loss: 26381959168.0000\n",
            "Epoch 373/400\n",
            "119/119 [==============================] - 0s 2ms/step - loss: 26405519360.0000 - val_loss: 26377064448.0000\n",
            "Epoch 374/400\n",
            "119/119 [==============================] - 0s 3ms/step - loss: 26403745792.0000 - val_loss: 26364825600.0000\n",
            "Epoch 375/400\n",
            "119/119 [==============================] - 0s 2ms/step - loss: 26402740224.0000 - val_loss: 26349422592.0000\n",
            "Epoch 376/400\n",
            "119/119 [==============================] - 0s 2ms/step - loss: 26398846976.0000 - val_loss: 26346053632.0000\n",
            "Epoch 377/400\n",
            "119/119 [==============================] - 0s 2ms/step - loss: 26331348992.0000 - val_loss: 26318032896.0000\n",
            "Epoch 378/400\n",
            "119/119 [==============================] - 0s 2ms/step - loss: 26324088832.0000 - val_loss: 26301474816.0000\n",
            "Epoch 379/400\n",
            "119/119 [==============================] - 0s 2ms/step - loss: 26342469632.0000 - val_loss: 26314854400.0000\n",
            "Epoch 380/400\n",
            "119/119 [==============================] - 0s 2ms/step - loss: 26314625024.0000 - val_loss: 26293108736.0000\n",
            "Epoch 381/400\n",
            "119/119 [==============================] - 0s 2ms/step - loss: 26288783360.0000 - val_loss: 26280812544.0000\n",
            "Epoch 382/400\n",
            "119/119 [==============================] - 0s 2ms/step - loss: 26264528896.0000 - val_loss: 26322696192.0000\n",
            "Epoch 383/400\n",
            "119/119 [==============================] - 0s 2ms/step - loss: 26256388096.0000 - val_loss: 26251098112.0000\n",
            "Epoch 384/400\n",
            "119/119 [==============================] - 0s 2ms/step - loss: 26247053312.0000 - val_loss: 26235092992.0000\n",
            "Epoch 385/400\n",
            "119/119 [==============================] - 0s 3ms/step - loss: 26236252160.0000 - val_loss: 26239244288.0000\n",
            "Epoch 386/400\n",
            "119/119 [==============================] - 0s 2ms/step - loss: 26224320512.0000 - val_loss: 26221277184.0000\n",
            "Epoch 387/400\n",
            "119/119 [==============================] - 0s 2ms/step - loss: 26191208448.0000 - val_loss: 26210293760.0000\n",
            "Epoch 388/400\n",
            "119/119 [==============================] - 0s 2ms/step - loss: 26165444608.0000 - val_loss: 26225051648.0000\n",
            "Epoch 389/400\n",
            "119/119 [==============================] - 0s 2ms/step - loss: 26157254656.0000 - val_loss: 26262620160.0000\n",
            "Epoch 390/400\n",
            "119/119 [==============================] - 0s 2ms/step - loss: 26139877376.0000 - val_loss: 26211510272.0000\n",
            "Epoch 391/400\n",
            "119/119 [==============================] - 0s 2ms/step - loss: 26123309056.0000 - val_loss: 26214066176.0000\n",
            "Epoch 392/400\n",
            "119/119 [==============================] - 0s 2ms/step - loss: 26102138880.0000 - val_loss: 26187079680.0000\n",
            "Epoch 393/400\n",
            "119/119 [==============================] - 0s 2ms/step - loss: 26135953408.0000 - val_loss: 26161080320.0000\n",
            "Epoch 394/400\n",
            "119/119 [==============================] - 0s 2ms/step - loss: 26107688960.0000 - val_loss: 26145261568.0000\n",
            "Epoch 395/400\n",
            "119/119 [==============================] - 0s 2ms/step - loss: 26081343488.0000 - val_loss: 26215202816.0000\n",
            "Epoch 396/400\n",
            "119/119 [==============================] - 0s 2ms/step - loss: 26082353152.0000 - val_loss: 26224171008.0000\n",
            "Epoch 397/400\n",
            "119/119 [==============================] - 0s 2ms/step - loss: 26058027008.0000 - val_loss: 26125979648.0000\n",
            "Epoch 398/400\n",
            "119/119 [==============================] - 0s 2ms/step - loss: 26026469376.0000 - val_loss: 26123831296.0000\n",
            "Epoch 399/400\n",
            "119/119 [==============================] - 0s 2ms/step - loss: 25996779520.0000 - val_loss: 26116241408.0000\n",
            "Epoch 400/400\n",
            "119/119 [==============================] - 0s 2ms/step - loss: 26035623936.0000 - val_loss: 26080720896.0000\n"
          ],
          "name": "stdout"
        },
        {
          "output_type": "execute_result",
          "data": {
            "text/plain": [
              "<tensorflow.python.keras.callbacks.History at 0x7f22b35700b8>"
            ]
          },
          "metadata": {
            "tags": []
          },
          "execution_count": 65
        }
      ]
    },
    {
      "cell_type": "code",
      "metadata": {
        "id": "tsSuawDrHvS_",
        "colab_type": "code",
        "colab": {}
      },
      "source": [
        "#since it is a very large set, \n",
        "# smaller batches in the power of 2 is generaaly preferred, smaller the batch, more chances are that we dont over fit the model as we are passing small batches\n",
        "#chose 400 epochs, rightnow we dont know early stoping mechanism"
      ],
      "execution_count": 41,
      "outputs": []
    },
    {
      "cell_type": "code",
      "metadata": {
        "id": "sEjYTPd0KPVE",
        "colab_type": "code",
        "colab": {}
      },
      "source": [
        "losses = pd.DataFrame(model.history.history)"
      ],
      "execution_count": 70,
      "outputs": []
    },
    {
      "cell_type": "code",
      "metadata": {
        "id": "jO0D9Jmrn1cF",
        "colab_type": "code",
        "colab": {
          "base_uri": "https://localhost:8080/",
          "height": 293
        },
        "outputId": "60c8d15e-8b93-4db4-e6b2-360a7f71ca92"
      },
      "source": [
        "losses.plot()"
      ],
      "execution_count": 74,
      "outputs": [
        {
          "output_type": "execute_result",
          "data": {
            "text/plain": [
              "<matplotlib.axes._subplots.AxesSubplot at 0x7f22aedbb7f0>"
            ]
          },
          "metadata": {
            "tags": []
          },
          "execution_count": 74
        },
        {
          "output_type": "display_data",
          "data": {
            "image/png": "[encoded data removed]",
            "text/plain": [
              "<Figure size 432x288 with 1 Axes>"
            ]
          },
          "metadata": {
            "tags": [],
            "needs_background": "light"
          }
        }
      ]
    },
    {
      "cell_type": "code",
      "metadata": {
        "id": "yxQSLx0EoKEK",
        "colab_type": "code",
        "colab": {}
      },
      "source": [
        "#if there was overfitting, val_loss would spike, unlike in this case, calidation loss is decreasing not spiking, as validation data is decreasing, we could have trained a litlle more\n",
        "#this graph is quite perfect, both are going down, no overfitting "
      ],
      "execution_count": null,
      "outputs": []
    },
    {
      "cell_type": "code",
      "metadata": {
        "id": "xE4ghXisnzco",
        "colab_type": "code",
        "colab": {}
      },
      "source": [
        "%matplotlib inline"
      ],
      "execution_count": 72,
      "outputs": []
    },
    {
      "cell_type": "code",
      "metadata": {
        "id": "_6g9iHg1oDNF",
        "colab_type": "code",
        "colab": {}
      },
      "source": [
        "from sklearn.metrics import mean_squared_error, mean_absolute_error, explained_variance_score"
      ],
      "execution_count": 75,
      "outputs": []
    },
    {
      "cell_type": "code",
      "metadata": {
        "id": "ctu0ZB89rOty",
        "colab_type": "code",
        "colab": {}
      },
      "source": [
        "predictions = model.predict(X_test)"
      ],
      "execution_count": 76,
      "outputs": []
    },
    {
      "cell_type": "code",
      "metadata": {
        "id": "tA_xBVHcrW2T",
        "colab_type": "code",
        "colab": {
          "base_uri": "https://localhost:8080/",
          "height": 34
        },
        "outputId": "b084fe58-697a-4894-9723-d1e7a62f3d13"
      },
      "source": [
        "mean_squared_error(y_test, predictions)"
      ],
      "execution_count": 77,
      "outputs": [
        {
          "output_type": "execute_result",
          "data": {
            "text/plain": [
              "26080719472.873867"
            ]
          },
          "metadata": {
            "tags": []
          },
          "execution_count": 77
        }
      ]
    },
    {
      "cell_type": "code",
      "metadata": {
        "id": "xMPH2HcXrfUz",
        "colab_type": "code",
        "colab": {
          "base_uri": "https://localhost:8080/",
          "height": 34
        },
        "outputId": "e44072cd-b035-49b1-b9b7-01adc82bec4d"
      },
      "source": [
        "np.sqrt(mean_squared_error(y_test, predictions))"
      ],
      "execution_count": 78,
      "outputs": [
        {
          "output_type": "execute_result",
          "data": {
            "text/plain": [
              "161495.2614564089"
            ]
          },
          "metadata": {
            "tags": []
          },
          "execution_count": 78
        }
      ]
    },
    {
      "cell_type": "code",
      "metadata": {
        "id": "B6wI4emrrjvi",
        "colab_type": "code",
        "colab": {
          "base_uri": "https://localhost:8080/",
          "height": 34
        },
        "outputId": "63be3b85-1166-4135-dced-f1256fb1aefd"
      },
      "source": [
        "mean_absolute_error(y_test,predictions)"
      ],
      "execution_count": 79,
      "outputs": [
        {
          "output_type": "execute_result",
          "data": {
            "text/plain": [
              "100383.24967708976"
            ]
          },
          "metadata": {
            "tags": []
          },
          "execution_count": 79
        }
      ]
    },
    {
      "cell_type": "code",
      "metadata": {
        "id": "tQQoWcGnsy9T",
        "colab_type": "code",
        "colab": {
          "base_uri": "https://localhost:8080/",
          "height": 170
        },
        "outputId": "aa63f286-e22f-4c8e-b107-6f481451712e"
      },
      "source": [
        "df['price'].describe().transpose()"
      ],
      "execution_count": 80,
      "outputs": [
        {
          "output_type": "execute_result",
          "data": {
            "text/plain": [
              "count    2.161300e+04\n",
              "mean     5.400881e+05\n",
              "std      3.671272e+05\n",
              "min      7.500000e+04\n",
              "25%      3.219500e+05\n",
              "50%      4.500000e+05\n",
              "75%      6.450000e+05\n",
              "max      7.700000e+06\n",
              "Name: price, dtype: float64"
            ]
          },
          "metadata": {
            "tags": []
          },
          "execution_count": 80
        }
      ]
    },
    {
      "cell_type": "code",
      "metadata": {
        "id": "zNHRL9NAs3qQ",
        "colab_type": "code",
        "colab": {
          "base_uri": "https://localhost:8080/",
          "height": 34
        },
        "outputId": "77535d0e-d358-4867-a0b8-f1db0a7512a0"
      },
      "source": [
        "5.400881e+05"
      ],
      "execution_count": 81,
      "outputs": [
        {
          "output_type": "execute_result",
          "data": {
            "text/plain": [
              "540088.1"
            ]
          },
          "metadata": {
            "tags": []
          },
          "execution_count": 81
        }
      ]
    },
    {
      "cell_type": "code",
      "metadata": {
        "id": "OGw_YuzTtFTV",
        "colab_type": "code",
        "colab": {
          "base_uri": "https://localhost:8080/",
          "height": 34
        },
        "outputId": "fb93a018-a30f-4553-c963-f3d7cd66c197"
      },
      "source": [
        "explained_variance_score(y_test, predictions)"
      ],
      "execution_count": 82,
      "outputs": [
        {
          "output_type": "execute_result",
          "data": {
            "text/plain": [
              "0.8140832243092824"
            ]
          },
          "metadata": {
            "tags": []
          },
          "execution_count": 82
        }
      ]
    },
    {
      "cell_type": "code",
      "metadata": {
        "id": "4M9MGxEdtJgH",
        "colab_type": "code",
        "colab": {
          "base_uri": "https://localhost:8080/",
          "height": 306
        },
        "outputId": "f119d7f4-ea39-4d31-fd02-20d3a92a6ff2"
      },
      "source": [
        "#variance scoreis okay, not great\n",
        "plt.scatter(y_test, predictions)\n",
        "plt.plot(y_test, y_test, 'r')"
      ],
      "execution_count": 85,
      "outputs": [
        {
          "output_type": "execute_result",
          "data": {
            "text/plain": [
              "[<matplotlib.lines.Line2D at 0x7f22ae8ebcc0>]"
            ]
          },
          "metadata": {
            "tags": []
          },
          "execution_count": 85
        },
        {
          "output_type": "display_data",
          "data": {
            "image/png": "[encoded data removed]",
            "text/plain": [
              "<Figure size 432x288 with 1 Axes>"
            ]
          },
          "metadata": {
            "tags": [],
            "needs_background": "light"
          }
        }
      ]
    },
    {
      "cell_type": "code",
      "metadata": {
        "id": "ZwqF6VtOtrCh",
        "colab_type": "code",
        "colab": {}
      },
      "source": [
        "#outliers are not good at predicting the model\n",
        "# we are good at predicting values till almost 2m dollars, also we saw , we could have trained model little bit more"
      ],
      "execution_count": null,
      "outputs": []
    },
    {
      "cell_type": "code",
      "metadata": {
        "id": "4EfoQ8i7tmhF",
        "colab_type": "code",
        "colab": {}
      },
      "source": [
        "# now we want to predict a avalue of a new house\n",
        "#lets take our first house as an example"
      ],
      "execution_count": null,
      "outputs": []
    },
    {
      "cell_type": "code",
      "metadata": {
        "id": "F6zSmMwGtTbI",
        "colab_type": "code",
        "colab": {
          "base_uri": "https://localhost:8080/",
          "height": 306
        },
        "outputId": "67ee8758-fda8-415a-8afd-48ad15f8e67e"
      },
      "source": [
        "single_house = df.drop('price', axis = 1).iloc[0]"
      ],
      "execution_count": 91,
      "outputs": [
        {
          "output_type": "error",
          "ename": "KeyError",
          "evalue": "ignored",
          "traceback": [
            "\u001b[0;31m---------------------------------------------------------------------------\u001b[0m",
            "\u001b[0;31mKeyError\u001b[0m                                  Traceback (most recent call last)",
            "\u001b[0;32m<ipython-input-91-096fddabedbd>\u001b[0m in \u001b[0;36m<module>\u001b[0;34m()\u001b[0m\n\u001b[0;32m----> 1\u001b[0;31m \u001b[0msingle_house\u001b[0m \u001b[0;34m=\u001b[0m \u001b[0mdf\u001b[0m\u001b[0;34m.\u001b[0m\u001b[0mdrop\u001b[0m\u001b[0;34m(\u001b[0m\u001b[0;34m'price'\u001b[0m\u001b[0;34m,\u001b[0m \u001b[0maxis\u001b[0m \u001b[0;34m=\u001b[0m \u001b[0;36m1\u001b[0m\u001b[0;34m)\u001b[0m\u001b[0;34m.\u001b[0m\u001b[0miloc\u001b[0m\u001b[0;34m[\u001b[0m\u001b[0;36m0\u001b[0m\u001b[0;34m]\u001b[0m\u001b[0;34m\u001b[0m\u001b[0;34m\u001b[0m\u001b[0m\n\u001b[0m",
            "\u001b[0;32m/usr/local/lib/python3.6/dist-packages/pandas/core/frame.py\u001b[0m in \u001b[0;36mdrop\u001b[0;34m(self, labels, axis, index, columns, level, inplace, errors)\u001b[0m\n\u001b[1;32m   3995\u001b[0m             \u001b[0mlevel\u001b[0m\u001b[0;34m=\u001b[0m\u001b[0mlevel\u001b[0m\u001b[0;34m,\u001b[0m\u001b[0;34m\u001b[0m\u001b[0;34m\u001b[0m\u001b[0m\n\u001b[1;32m   3996\u001b[0m             \u001b[0minplace\u001b[0m\u001b[0;34m=\u001b[0m\u001b[0minplace\u001b[0m\u001b[0;34m,\u001b[0m\u001b[0;34m\u001b[0m\u001b[0;34m\u001b[0m\u001b[0m\n\u001b[0;32m-> 3997\u001b[0;31m             \u001b[0merrors\u001b[0m\u001b[0;34m=\u001b[0m\u001b[0merrors\u001b[0m\u001b[0;34m,\u001b[0m\u001b[0;34m\u001b[0m\u001b[0;34m\u001b[0m\u001b[0m\n\u001b[0m\u001b[1;32m   3998\u001b[0m         )\n\u001b[1;32m   3999\u001b[0m \u001b[0;34m\u001b[0m\u001b[0m\n",
            "\u001b[0;32m/usr/local/lib/python3.6/dist-packages/pandas/core/generic.py\u001b[0m in \u001b[0;36mdrop\u001b[0;34m(self, labels, axis, index, columns, level, inplace, errors)\u001b[0m\n\u001b[1;32m   3934\u001b[0m         \u001b[0;32mfor\u001b[0m \u001b[0maxis\u001b[0m\u001b[0;34m,\u001b[0m \u001b[0mlabels\u001b[0m \u001b[0;32min\u001b[0m \u001b[0maxes\u001b[0m\u001b[0;34m.\u001b[0m\u001b[0mitems\u001b[0m\u001b[0;34m(\u001b[0m\u001b[0;34m)\u001b[0m\u001b[0;34m:\u001b[0m\u001b[0;34m\u001b[0m\u001b[0;34m\u001b[0m\u001b[0m\n\u001b[1;32m   3935\u001b[0m             \u001b[0;32mif\u001b[0m \u001b[0mlabels\u001b[0m \u001b[0;32mis\u001b[0m \u001b[0;32mnot\u001b[0m \u001b[0;32mNone\u001b[0m\u001b[0;34m:\u001b[0m\u001b[0;34m\u001b[0m\u001b[0;34m\u001b[0m\u001b[0m\n\u001b[0;32m-> 3936\u001b[0;31m                 \u001b[0mobj\u001b[0m \u001b[0;34m=\u001b[0m \u001b[0mobj\u001b[0m\u001b[0;34m.\u001b[0m\u001b[0m_drop_axis\u001b[0m\u001b[0;34m(\u001b[0m\u001b[0mlabels\u001b[0m\u001b[0;34m,\u001b[0m \u001b[0maxis\u001b[0m\u001b[0;34m,\u001b[0m \u001b[0mlevel\u001b[0m\u001b[0;34m=\u001b[0m\u001b[0mlevel\u001b[0m\u001b[0;34m,\u001b[0m \u001b[0merrors\u001b[0m\u001b[0;34m=\u001b[0m\u001b[0merrors\u001b[0m\u001b[0;34m)\u001b[0m\u001b[0;34m\u001b[0m\u001b[0;34m\u001b[0m\u001b[0m\n\u001b[0m\u001b[1;32m   3937\u001b[0m \u001b[0;34m\u001b[0m\u001b[0m\n\u001b[1;32m   3938\u001b[0m         \u001b[0;32mif\u001b[0m \u001b[0minplace\u001b[0m\u001b[0;34m:\u001b[0m\u001b[0;34m\u001b[0m\u001b[0;34m\u001b[0m\u001b[0m\n",
            "\u001b[0;32m/usr/local/lib/python3.6/dist-packages/pandas/core/generic.py\u001b[0m in \u001b[0;36m_drop_axis\u001b[0;34m(self, labels, axis, level, errors)\u001b[0m\n\u001b[1;32m   3968\u001b[0m                 \u001b[0mnew_axis\u001b[0m \u001b[0;34m=\u001b[0m \u001b[0maxis\u001b[0m\u001b[0;34m.\u001b[0m\u001b[0mdrop\u001b[0m\u001b[0;34m(\u001b[0m\u001b[0mlabels\u001b[0m\u001b[0;34m,\u001b[0m \u001b[0mlevel\u001b[0m\u001b[0;34m=\u001b[0m\u001b[0mlevel\u001b[0m\u001b[0;34m,\u001b[0m \u001b[0merrors\u001b[0m\u001b[0;34m=\u001b[0m\u001b[0merrors\u001b[0m\u001b[0;34m)\u001b[0m\u001b[0;34m\u001b[0m\u001b[0;34m\u001b[0m\u001b[0m\n\u001b[1;32m   3969\u001b[0m             \u001b[0;32melse\u001b[0m\u001b[0;34m:\u001b[0m\u001b[0;34m\u001b[0m\u001b[0;34m\u001b[0m\u001b[0m\n\u001b[0;32m-> 3970\u001b[0;31m                 \u001b[0mnew_axis\u001b[0m \u001b[0;34m=\u001b[0m \u001b[0maxis\u001b[0m\u001b[0;34m.\u001b[0m\u001b[0mdrop\u001b[0m\u001b[0;34m(\u001b[0m\u001b[0mlabels\u001b[0m\u001b[0;34m,\u001b[0m \u001b[0merrors\u001b[0m\u001b[0;34m=\u001b[0m\u001b[0merrors\u001b[0m\u001b[0;34m)\u001b[0m\u001b[0;34m\u001b[0m\u001b[0;34m\u001b[0m\u001b[0m\n\u001b[0m\u001b[1;32m   3971\u001b[0m             \u001b[0mresult\u001b[0m \u001b[0;34m=\u001b[0m \u001b[0mself\u001b[0m\u001b[0;34m.\u001b[0m\u001b[0mreindex\u001b[0m\u001b[0;34m(\u001b[0m\u001b[0;34m**\u001b[0m\u001b[0;34m{\u001b[0m\u001b[0maxis_name\u001b[0m\u001b[0;34m:\u001b[0m \u001b[0mnew_axis\u001b[0m\u001b[0;34m}\u001b[0m\u001b[0;34m)\u001b[0m\u001b[0;34m\u001b[0m\u001b[0;34m\u001b[0m\u001b[0m\n\u001b[1;32m   3972\u001b[0m \u001b[0;34m\u001b[0m\u001b[0m\n",
            "\u001b[0;32m/usr/local/lib/python3.6/dist-packages/pandas/core/indexes/base.py\u001b[0m in \u001b[0;36mdrop\u001b[0;34m(self, labels, errors)\u001b[0m\n\u001b[1;32m   5016\u001b[0m         \u001b[0;32mif\u001b[0m \u001b[0mmask\u001b[0m\u001b[0;34m.\u001b[0m\u001b[0many\u001b[0m\u001b[0;34m(\u001b[0m\u001b[0;34m)\u001b[0m\u001b[0;34m:\u001b[0m\u001b[0;34m\u001b[0m\u001b[0;34m\u001b[0m\u001b[0m\n\u001b[1;32m   5017\u001b[0m             \u001b[0;32mif\u001b[0m \u001b[0merrors\u001b[0m \u001b[0;34m!=\u001b[0m \u001b[0;34m\"ignore\"\u001b[0m\u001b[0;34m:\u001b[0m\u001b[0;34m\u001b[0m\u001b[0;34m\u001b[0m\u001b[0m\n\u001b[0;32m-> 5018\u001b[0;31m                 \u001b[0;32mraise\u001b[0m \u001b[0mKeyError\u001b[0m\u001b[0;34m(\u001b[0m\u001b[0;34mf\"{labels[mask]} not found in axis\"\u001b[0m\u001b[0;34m)\u001b[0m\u001b[0;34m\u001b[0m\u001b[0;34m\u001b[0m\u001b[0m\n\u001b[0m\u001b[1;32m   5019\u001b[0m             \u001b[0mindexer\u001b[0m \u001b[0;34m=\u001b[0m \u001b[0mindexer\u001b[0m\u001b[0;34m[\u001b[0m\u001b[0;34m~\u001b[0m\u001b[0mmask\u001b[0m\u001b[0;34m]\u001b[0m\u001b[0;34m\u001b[0m\u001b[0;34m\u001b[0m\u001b[0m\n\u001b[1;32m   5020\u001b[0m         \u001b[0;32mreturn\u001b[0m \u001b[0mself\u001b[0m\u001b[0;34m.\u001b[0m\u001b[0mdelete\u001b[0m\u001b[0;34m(\u001b[0m\u001b[0mindexer\u001b[0m\u001b[0;34m)\u001b[0m\u001b[0;34m\u001b[0m\u001b[0;34m\u001b[0m\u001b[0m\n",
            "\u001b[0;31mKeyError\u001b[0m: \"['price'] not found in axis\""
          ]
        }
      ]
    },
    {
      "cell_type": "code",
      "metadata": {
        "id": "xOsjBgnTvE_a",
        "colab_type": "code",
        "colab": {
          "base_uri": "https://localhost:8080/",
          "height": 374
        },
        "outputId": "55a9cde6-5602-4266-9658-1f6494782b72"
      },
      "source": [
        "single_house"
      ],
      "execution_count": 95,
      "outputs": [
        {
          "output_type": "execute_result",
          "data": {
            "text/plain": [
              "bedrooms             3.0000\n",
              "bathrooms            1.0000\n",
              "sqft_living       1180.0000\n",
              "sqft_lot          5650.0000\n",
              "floors               1.0000\n",
              "waterfront           0.0000\n",
              "view                 0.0000\n",
              "condition            3.0000\n",
              "grade                7.0000\n",
              "sqft_above        1180.0000\n",
              "sqft_basement        0.0000\n",
              "yr_built          1955.0000\n",
              "yr_renovated         0.0000\n",
              "zipcode          98178.0000\n",
              "lat                 47.5112\n",
              "long              -122.2570\n",
              "sqft_living15     1340.0000\n",
              "sqft_lot15        5650.0000\n",
              "year              2014.0000\n",
              "month               10.0000\n",
              "Name: 0, dtype: float64"
            ]
          },
          "metadata": {
            "tags": []
          },
          "execution_count": 95
        }
      ]
    },
    {
      "cell_type": "code",
      "metadata": {
        "id": "f9-cKX3NvVij",
        "colab_type": "code",
        "colab": {}
      },
      "source": [
        "single_house = scaler.transform(single_house.values.reshape(-1,20))"
      ],
      "execution_count": 98,
      "outputs": []
    },
    {
      "cell_type": "code",
      "metadata": {
        "id": "gt5tbre1vn36",
        "colab_type": "code",
        "colab": {
          "base_uri": "https://localhost:8080/",
          "height": 34
        },
        "outputId": "e7512103-e220-4dc9-c1c3-98d8c5960a89"
      },
      "source": [
        "model.predict(single_house)"
      ],
      "execution_count": 99,
      "outputs": [
        {
          "output_type": "execute_result",
          "data": {
            "text/plain": [
              "array([[275061.53]], dtype=float32)"
            ]
          },
          "metadata": {
            "tags": []
          },
          "execution_count": 99
        }
      ]
    },
    {
      "cell_type": "code",
      "metadata": {
        "id": "21V0JD93vsQ2",
        "colab_type": "code",
        "colab": {
          "base_uri": "https://localhost:8080/",
          "height": 102
        },
        "outputId": "2df37002-9102-4cf8-ca37-39c04e6ac243"
      },
      "source": [
        "df.columns"
      ],
      "execution_count": 102,
      "outputs": [
        {
          "output_type": "execute_result",
          "data": {
            "text/plain": [
              "Index(['bedrooms', 'bathrooms', 'sqft_living', 'sqft_lot', 'floors',\n",
              "       'waterfront', 'view', 'condition', 'grade', 'sqft_above',\n",
              "       'sqft_basement', 'yr_built', 'yr_renovated', 'zipcode', 'lat', 'long',\n",
              "       'sqft_living15', 'sqft_lot15', 'year', 'month'],\n",
              "      dtype='object')"
            ]
          },
          "metadata": {
            "tags": []
          },
          "execution_count": 102
        }
      ]
    },
    {
      "cell_type": "code",
      "metadata": {
        "id": "rRywPTncv_dz",
        "colab_type": "code",
        "colab": {}
      },
      "source": [
        "# we need to train the model more, as predicted price are around 6000 dollars more"
      ],
      "execution_count": null,
      "outputs": []
    },
    {
      "cell_type": "code",
      "metadata": {
        "id": "8VjBCOAKv2Gr",
        "colab_type": "code",
        "colab": {}
      },
      "source": [
        "#but it is okay , not too off"
      ],
      "execution_count": null,
      "outputs": []
    },
    {
      "cell_type": "code",
      "metadata": {
        "id": "OPYOvOjxvuJK",
        "colab_type": "code",
        "colab": {}
      },
      "source": [
        ""
      ],
      "execution_count": null,
      "outputs": []
    },
    {
      "cell_type": "code",
      "metadata": {
        "id": "lSw-3-_fvg_4",
        "colab_type": "code",
        "colab": {}
      },
      "source": [
        ""
      ],
      "execution_count": null,
      "outputs": []
    },
    {
      "cell_type": "code",
      "metadata": {
        "id": "3R633W7ave9V",
        "colab_type": "code",
        "colab": {}
      },
      "source": [
        ""
      ],
      "execution_count": null,
      "outputs": []
    },
    {
      "cell_type": "code",
      "metadata": {
        "id": "C_EQSqfrvQ-G",
        "colab_type": "code",
        "colab": {}
      },
      "source": [
        ""
      ],
      "execution_count": null,
      "outputs": []
    },
    {
      "cell_type": "code",
      "metadata": {
        "id": "Pr0gCJ3tvNSh",
        "colab_type": "code",
        "colab": {}
      },
      "source": [
        ""
      ],
      "execution_count": null,
      "outputs": []
    },
    {
      "cell_type": "code",
      "metadata": {
        "id": "d7nfbW5_vLF9",
        "colab_type": "code",
        "colab": {}
      },
      "source": [
        ""
      ],
      "execution_count": null,
      "outputs": []
    },
    {
      "cell_type": "code",
      "metadata": {
        "id": "hcprTIQMvCbh",
        "colab_type": "code",
        "colab": {}
      },
      "source": [
        ""
      ],
      "execution_count": null,
      "outputs": []
    },
    {
      "cell_type": "code",
      "metadata": {
        "id": "zLtdaMYTu8uv",
        "colab_type": "code",
        "colab": {}
      },
      "source": [
        ""
      ],
      "execution_count": null,
      "outputs": []
    },
    {
      "cell_type": "code",
      "metadata": {
        "id": "15ql4tppuxd6",
        "colab_type": "code",
        "colab": {
          "base_uri": "https://localhost:8080/",
          "height": 163
        },
        "outputId": "d910641a-38ce-4ca9-9ee8-f0abc1865e4f"
      },
      "source": [
        ""
      ],
      "execution_count": 89,
      "outputs": [
        {
          "output_type": "error",
          "ename": "ValueError",
          "evalue": "ignored",
          "traceback": [
            "\u001b[0;31m---------------------------------------------------------------------------\u001b[0m",
            "\u001b[0;31mValueError\u001b[0m                                Traceback (most recent call last)",
            "\u001b[0;32m<ipython-input-89-282e1322bc97>\u001b[0m in \u001b[0;36m<module>\u001b[0;34m()\u001b[0m\n\u001b[0;32m----> 1\u001b[0;31m \u001b[0msingle_house\u001b[0m \u001b[0;34m=\u001b[0m \u001b[0mscaler\u001b[0m\u001b[0;34m.\u001b[0m\u001b[0mtransform\u001b[0m\u001b[0;34m(\u001b[0m\u001b[0msingle_house\u001b[0m\u001b[0;34m.\u001b[0m\u001b[0mvalues\u001b[0m\u001b[0;34m.\u001b[0m\u001b[0mreshape\u001b[0m\u001b[0;34m(\u001b[0m\u001b[0;34m-\u001b[0m\u001b[0;36m1\u001b[0m\u001b[0;34m,\u001b[0m\u001b[0;36m19\u001b[0m\u001b[0;34m)\u001b[0m\u001b[0;34m)\u001b[0m\u001b[0;34m\u001b[0m\u001b[0;34m\u001b[0m\u001b[0m\n\u001b[0m",
            "\u001b[0;31mValueError\u001b[0m: cannot reshape array of size 20 into shape (19)"
          ]
        }
      ]
    },
    {
      "cell_type": "code",
      "metadata": {
        "id": "UmgBgOp3u-Ka",
        "colab_type": "code",
        "colab": {}
      },
      "source": [
        ""
      ],
      "execution_count": null,
      "outputs": []
    },
    {
      "cell_type": "code",
      "metadata": {
        "id": "Ijn0yaUqu7Gv",
        "colab_type": "code",
        "colab": {}
      },
      "source": [
        ""
      ],
      "execution_count": null,
      "outputs": []
    },
    {
      "cell_type": "code",
      "metadata": {
        "id": "3l2w9oV1m_1c",
        "colab_type": "code",
        "colab": {}
      },
      "source": [
        ""
      ],
      "execution_count": null,
      "outputs": []
    },
    {
      "cell_type": "code",
      "metadata": {
        "id": "1pV6tyygm28t",
        "colab_type": "code",
        "colab": {}
      },
      "source": [
        ""
      ],
      "execution_count": null,
      "outputs": []
    },
    {
      "cell_type": "code",
      "metadata": {
        "id": "opQqLZW7HtXf",
        "colab_type": "code",
        "colab": {}
      },
      "source": [
        ""
      ],
      "execution_count": null,
      "outputs": []
    },
    {
      "cell_type": "code",
      "metadata": {
        "id": "eZ_wIsGjHLCO",
        "colab_type": "code",
        "colab": {}
      },
      "source": [
        ""
      ],
      "execution_count": null,
      "outputs": []
    },
    {
      "cell_type": "code",
      "metadata": {
        "id": "QaGLusq6BHeV",
        "colab_type": "code",
        "colab": {}
      },
      "source": [
        ""
      ],
      "execution_count": null,
      "outputs": []
    },
    {
      "cell_type": "code",
      "metadata": {
        "id": "epMZgiKcBCD_",
        "colab_type": "code",
        "colab": {}
      },
      "source": [
        ""
      ],
      "execution_count": null,
      "outputs": []
    },
    {
      "cell_type": "code",
      "metadata": {
        "id": "sQesnkAmAu4z",
        "colab_type": "code",
        "colab": {}
      },
      "source": [
        ""
      ],
      "execution_count": null,
      "outputs": []
    },
    {
      "cell_type": "code",
      "metadata": {
        "id": "vcO6bEP4AtCd",
        "colab_type": "code",
        "colab": {}
      },
      "source": [
        ""
      ],
      "execution_count": null,
      "outputs": []
    },
    {
      "cell_type": "code",
      "metadata": {
        "id": "4f_Xbv1VADsr",
        "colab_type": "code",
        "colab": {}
      },
      "source": [
        ""
      ],
      "execution_count": null,
      "outputs": []
    },
    {
      "cell_type": "code",
      "metadata": {
        "id": "83pjYc86ACei",
        "colab_type": "code",
        "colab": {}
      },
      "source": [
        ""
      ],
      "execution_count": null,
      "outputs": []
    },
    {
      "cell_type": "code",
      "metadata": {
        "id": "VwbJ_wLT97Dh",
        "colab_type": "code",
        "colab": {}
      },
      "source": [
        ""
      ],
      "execution_count": null,
      "outputs": []
    },
    {
      "cell_type": "code",
      "metadata": {
        "id": "tAMtSEFG9mX0",
        "colab_type": "code",
        "colab": {}
      },
      "source": [
        ""
      ],
      "execution_count": null,
      "outputs": []
    },
    {
      "cell_type": "code",
      "metadata": {
        "id": "hl9z5b8b9QSc",
        "colab_type": "code",
        "colab": {}
      },
      "source": [
        ""
      ],
      "execution_count": null,
      "outputs": []
    },
    {
      "cell_type": "code",
      "metadata": {
        "id": "3YW2xDrE7ND3",
        "colab_type": "code",
        "colab": {}
      },
      "source": [
        ""
      ],
      "execution_count": null,
      "outputs": []
    },
    {
      "cell_type": "code",
      "metadata": {
        "id": "JBffo65j7CLt",
        "colab_type": "code",
        "colab": {}
      },
      "source": [
        ""
      ],
      "execution_count": null,
      "outputs": []
    }
  ]
}